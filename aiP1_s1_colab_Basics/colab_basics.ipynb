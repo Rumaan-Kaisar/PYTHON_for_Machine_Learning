{
 "cells": [
  {
   "cell_type": "code",
   "execution_count": null,
   "metadata": {},
   "outputs": [],
   "source": [
    "import sys\n",
    "print(\"Python version:\", sys.version)"
   ]
  },
  {
   "cell_type": "code",
   "execution_count": null,
   "metadata": {},
   "outputs": [],
   "source": [
    "# First activate GPU: \n",
    "  # \"Runtime\" -> \"Change runtime type\" -> \"Select GPU: T4 GPU\"  -> \"Save\"\n",
    "\n",
    "import tensorflow as tf\n",
    "\n",
    "# Check if GPU is available\n",
    "if tf.config.list_physical_devices('GPU'):\n",
    "    print('GPU is available')\n",
    "else:\n",
    "    print('GPU is not available')\n",
    "\n",
    "# OUT: GPU is available"
   ]
  },
  {
   "cell_type": "code",
   "execution_count": null,
   "metadata": {},
   "outputs": [],
   "source": [
    "# You can check the GPU information in Google Colab using the !nvidia-smi command\n",
    "!nvidia-smi\n",
    "\n",
    "# OUT: \n",
    "\"\"\" \n",
    "+---------------------------------------------------------------------------------------+\n",
    "| NVIDIA-SMI 535.104.05             Driver Version: 535.104.05   CUDA Version: 12.2     |\n",
    "|-----------------------------------------+----------------------+----------------------+\n",
    "| GPU  Name                 Persistence-M | Bus-Id        Disp.A | Volatile Uncorr. ECC |\n",
    "| Fan  Temp   Perf          Pwr:Usage/Cap |         Memory-Usage | GPU-Util  Compute M. |\n",
    "|                                         |                      |               MIG M. |\n",
    "|=========================================+======================+======================|\n",
    "|   0  Tesla T4                       Off | 00000000:00:04.0 Off |                    0 |\n",
    "| N/A   44C    P8               9W /  70W |      3MiB / 15360MiB |      0%      Default |\n",
    "|                                         |                      |                  N/A |\n",
    "+-----------------------------------------+----------------------+----------------------+\n",
    "                                                                                         \n",
    "+---------------------------------------------------------------------------------------+\n",
    "| Processes:                                                                            |\n",
    "|  GPU   GI   CI        PID   Type   Process name                            GPU Memory |\n",
    "|        ID   ID                                                             Usage      |\n",
    "|=======================================================================================|\n",
    "|  No running processes found                                                           |\n",
    "+---------------------------------------------------------------------------------------+\n",
    "\n",
    "\"\"\""
   ]
  },
  {
   "cell_type": "code",
   "execution_count": null,
   "metadata": {},
   "outputs": [],
   "source": [
    "# First activate TPU: \n",
    "  # \"Runtime\" -> \"Change runtime type\" -> \"TPU\"  -> \"Save\"\n",
    "\n",
    "import os\n",
    "\n",
    "# Check if TPU is available\n",
    "if 'COLAB_TPU_ADDR' in os.environ:\n",
    "    print('TPU is available')\n",
    "    # Get the TPU address\n",
    "    tpu_address = 'grpc://' + os.environ['COLAB_TPU_ADDR']\n",
    "    print('TPU address is', tpu_address)\n",
    "else:\n",
    "    print('TPU is not available')\n",
    "\n",
    "# OUT:\n",
    "# TPU is available\n",
    "# TPU address is grpc://10.55.50.58:8470"
   ]
  }
 ],
 "metadata": {
  "language_info": {
   "name": "python"
  },
  "orig_nbformat": 4
 },
 "nbformat": 4,
 "nbformat_minor": 2
}

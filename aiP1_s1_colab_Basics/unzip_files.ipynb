{
  "nbformat": 4,
  "nbformat_minor": 0,
  "metadata": {
    "colab": {
      "provenance": []
    },
    "kernelspec": {
      "name": "python3",
      "display_name": "Python 3"
    },
    "language_info": {
      "name": "python"
    }
  },
  "cells": [
    {
      "cell_type": "code",
      "execution_count": 1,
      "metadata": {
        "colab": {
          "base_uri": "https://localhost:8080/"
        },
        "id": "lQhEdMhKnx6F",
        "outputId": "896a839d-db81-49af-f01c-85ea994de581"
      },
      "outputs": [
        {
          "output_type": "stream",
          "name": "stdout",
          "text": [
            "Mounted at /content/drive\n"
          ]
        }
      ],
      "source": [
        "from google.colab import drive\n",
        "drive.mount('/content/drive')"
      ]
    },
    {
      "cell_type": "code",
      "source": [
        "!ls"
      ],
      "metadata": {
        "colab": {
          "base_uri": "https://localhost:8080/"
        },
        "id": "vCc0PncppUJ4",
        "outputId": "0abd382f-1368-431e-ff72-62ddf353e8d1"
      },
      "execution_count": 6,
      "outputs": [
        {
          "output_type": "stream",
          "name": "stdout",
          "text": [
            "drive  sample_data\n"
          ]
        }
      ]
    },
    {
      "cell_type": "code",
      "source": [
        "# change workin dir\n",
        "%cd /content/drive/MyDrive/"
      ],
      "metadata": {
        "colab": {
          "base_uri": "https://localhost:8080/"
        },
        "id": "0kU_KVJ7p456",
        "outputId": "40fbb4b7-8891-4879-9543-67f581173f58"
      },
      "execution_count": 9,
      "outputs": [
        {
          "output_type": "stream",
          "name": "stdout",
          "text": [
            "/content/drive/MyDrive\n"
          ]
        }
      ]
    },
    {
      "cell_type": "code",
      "source": [
        "!ls"
      ],
      "metadata": {
        "colab": {
          "base_uri": "https://localhost:8080/"
        },
        "id": "_axjzfZ7p94-",
        "outputId": "5234640d-3d3e-4df7-d327-7990c007b0a7"
      },
      "execution_count": 10,
      "outputs": [
        {
          "output_type": "stream",
          "name": "stdout",
          "text": [
            " 63   64   65   code_js  'Colab Notebooks'   _MLDL   TrainingDataPD25   TrainingDataPD25.zip\n"
          ]
        }
      ]
    },
    {
      "cell_type": "code",
      "source": [
        "# zip_file_path = '/content/drive/My Drive/path/to/your/zip/file.zip'\n",
        "zip_file_path = '/content/drive/MyDrive/TrainingDataPD25.zip'"
      ],
      "metadata": {
        "id": "6w4rEH9boOqB"
      },
      "execution_count": 11,
      "outputs": []
    },
    {
      "cell_type": "code",
      "source": [
        "!unzip -q {zip_file_path} -d '/content/drive/MyDrive/TrainingDataPD25'"
      ],
      "metadata": {
        "id": "BKIutvwSoqrp"
      },
      "execution_count": 12,
      "outputs": []
    }
  ]
}
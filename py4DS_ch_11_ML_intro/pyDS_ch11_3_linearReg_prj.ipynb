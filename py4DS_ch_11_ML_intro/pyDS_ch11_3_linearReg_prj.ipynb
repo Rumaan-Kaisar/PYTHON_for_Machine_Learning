{
 "cells": [
  {
   "cell_type": "markdown",
   "id": "ca309d90",
   "metadata": {},
   "source": [
    "<h1 style=\"color:#007fff\">----&nbsp;&nbsp;&nbsp;&nbsp;<strong>Project: </strong>Ecommerce&nbsp;&nbsp;&nbsp;&nbsp;----</h1>  \n"
   ]
  },
  {
   "cell_type": "markdown",
   "id": "47ed25af",
   "metadata": {},
   "source": []
  }
 ],
 "metadata": {
  "language_info": {
   "name": "python"
  }
 },
 "nbformat": 4,
 "nbformat_minor": 5
}

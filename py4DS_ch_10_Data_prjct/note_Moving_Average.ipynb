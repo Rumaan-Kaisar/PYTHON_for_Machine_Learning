{
 "cells": [
  {
   "cell_type": "markdown",
   "metadata": {},
   "source": [
    "# Whats a moving avearge? "
   ]
  },
  {
   "cell_type": "markdown",
   "metadata": {},
   "source": [
    "### 📉 What Is a *Moving Average*?\n",
    "\n",
    "A **moving average (MA)** is a **statistical technique** used to smooth out short-term fluctuations and <br> highlight longer-term trends in a dataset—commonly applied to **time series data** like stock prices.\n",
    "\n",
    "---\n",
    "\n",
    "### 🧮 How It Works:\n",
    "\n",
    "A moving average calculates the **average value** of a variable (e.g., stock closing price) over a **sliding window** of time.\n",
    "\n",
    "For example:\n",
    "- A **5-day moving average** of stock prices takes the average of the **last 5 days**, then shifts forward one day and does it again.\n",
    "\n",
    "---\n",
    "\n",
    "### 🔁 Types of Moving Averages:\n",
    "\n",
    "| Type                     | Description                                                                 |\n",
    "|--------------------------|-----------------------------------------------------------------------------|\n",
    "| **Simple Moving Average (SMA)** | Equal weighting of past values over the selected window.               |\n",
    "| **Exponential Moving Average (EMA)** | Gives **more weight** to recent data; reacts more quickly to changes. |\n",
    "\n",
    "---\n",
    "\n",
    "### 📊 Why It’s Useful:\n",
    "\n",
    "- **Trend Detection**: Helps identify bullish (upward) or bearish (downward) trends.\n",
    "- **Noise Reduction**: Removes daily volatility and makes patterns clearer.\n",
    "- **Signals**: Often used in strategies like the “golden cross” (short MA crossing above long MA).\n",
    "\n",
    "---\n",
    "\n",
    "### 🧠 Example:\n",
    "\n",
    "If daily prices are: `[100, 102, 101, 105, 110]`,  \n",
    "The **3-day moving average** would be:\n",
    "\n",
    "```\n",
    "Day 3: (100 + 102 + 101)/3 = 101.0  \n",
    "Day 4: (102 + 101 + 105)/3 = 102.67  \n",
    "Day 5: (101 + 105 + 110)/3 = 105.33\n",
    "```\n",
    "\n"
   ]
  },
  {
   "cell_type": "markdown",
   "metadata": {},
   "source": [
    "### Is it a type of sliding window technique, and is it also used during the training of machine learning (ML), deep learning (DL), or reinforcement learning (RL) models?"
   ]
  },
  {
   "cell_type": "markdown",
   "metadata": {},
   "source": [
    "Yes — **moving average** is indeed a kind of **sliding window technique**, and it's widely used in **machine learning (ML)**, **deep learning (DL)**, and **reinforcement learning (RL)** too — though in different ways depending on the context.\n",
    "\n",
    "---\n",
    "\n",
    "### ☯ In General: Yes, It's a Window\n",
    "\n",
    "- Moving average uses a **fixed-size window** that slides over time series data.\n",
    "- It averages the values within the window to smooth noise or detect trends.\n",
    "\n",
    "---\n",
    "\n",
    "### 🤖 In ML / DL: Where It's Used\n",
    "\n",
    "#### 1. **Optimization (Training Stability)**\n",
    "- **Exponential Moving Average (EMA)** of model weights is sometimes used to:\n",
    "  - **Stabilize training**, especially in deep learning.\n",
    "  - Keep a smoother version of the model for **evaluation** or **inference**.\n",
    "- Used in frameworks like TensorFlow: `tf.train.ExponentialMovingAverage`\n",
    "\n",
    "#### 2. **Learning Rate Schedulers**\n",
    "- In adaptive optimizers (like Adam or RMSProp), EMA is used to track:\n",
    "  - **Gradient means** and **squared gradients** over time (to adapt learning rate).\n",
    "\n",
    "#### 3. **Reinforcement Learning (RL)**\n",
    "- Moving average is used to **track reward trends**:\n",
    "  - To observe agent performance over time.\n",
    "  - For **baseline estimation** in policy gradients to reduce variance.\n",
    "\n",
    "#### 4. **Smoothing Metrics**\n",
    "- In training/validation plots, moving average is used to **smooth noisy loss/accuracy curves** for better readability.\n",
    "\n",
    "---\n",
    "\n",
    "### 🔄 Summary\n",
    "\n",
    "| Use Case                         | How Moving Average Helps                        |\n",
    "|----------------------------------|-------------------------------------------------|\n",
    "| Time series analysis             | Trend detection, noise reduction                |\n",
    "| DL optimization (EMA weights)    | Stabilizes weight updates during training       |\n",
    "| Adaptive optimizers              | Smooths gradients for better learning rate control |\n",
    "| RL reward tracking               | Evaluates learning progress over time           |\n",
    "| Plot smoothing                   | Makes metrics more interpretable                |\n"
   ]
  }
 ],
 "metadata": {
  "language_info": {
   "name": "python"
  },
  "orig_nbformat": 4
 },
 "nbformat": 4,
 "nbformat_minor": 2
}

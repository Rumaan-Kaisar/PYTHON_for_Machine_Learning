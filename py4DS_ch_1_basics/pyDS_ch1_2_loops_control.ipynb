{
 "cells": [
  {
   "cell_type": "code",
   "execution_count": 1,
   "metadata": {},
   "outputs": [],
   "source": [
    "import numpy as np\n",
    "from numpy.random import randn"
   ]
  },
  {
   "cell_type": "code",
   "execution_count": 14,
   "metadata": {},
   "outputs": [
    {
     "data": {
      "text/plain": [
       "-1.984366250012471"
      ]
     },
     "execution_count": 14,
     "metadata": {},
     "output_type": "execute_result"
    }
   ],
   "source": [
    "randn()"
   ]
  },
  {
   "cell_type": "code",
   "execution_count": 65,
   "metadata": {},
   "outputs": [
    {
     "name": "stdout",
     "output_type": "stream",
     "text": [
      "Greater than 1\n",
      "1.1206838069583482\n"
     ]
    }
   ],
   "source": [
    "# if \n",
    "# ----- -2 ------ -1 ------ 0 ------ 2 ------- 1 ------\n",
    "answer = None \n",
    "x = randn() \n",
    "if x > 1:\n",
    "    answer = \"Greater than 1\"  \n",
    "    print(answer)\n",
    "print(x)"
   ]
  },
  {
   "cell_type": "code",
   "execution_count": 33,
   "metadata": {},
   "outputs": [
    {
     "name": "stdout",
     "output_type": "stream",
     "text": [
      "1.1999718061561016\n",
      "Greater than 1\n"
     ]
    }
   ],
   "source": [
    "# if-else\n",
    "answer = None \n",
    "x = randn() \n",
    "\n",
    "if x > 1:\n",
    "    answer = \"Greater than 1\" \n",
    "else:\n",
    "    answer = \"Less than 1\" \n",
    "\n",
    "print(x) \n",
    "print(answer)"
   ]
  },
  {
   "cell_type": "code",
   "execution_count": 49,
   "metadata": {},
   "outputs": [
    {
     "name": "stdout",
     "output_type": "stream",
     "text": [
      "1.1200241516730542\n",
      "Greater than 1\n"
     ]
    }
   ],
   "source": [
    "# NESTED if-else\n",
    "#Nested Statements \n",
    "answer = None \n",
    "x = randn() \n",
    "\n",
    "if x > 1:\n",
    "    answer = \"Greater than 1\" \n",
    "else:\n",
    "    if x >= -1:\n",
    "        answer = \"Between -1 and 1\" \n",
    "    else:\n",
    "        answer = \"Less than -1\"\n",
    "\n",
    "print(x) \n",
    "print(answer)"
   ]
  },
  {
   "cell_type": "code",
   "execution_count": 59,
   "metadata": {},
   "outputs": [
    {
     "name": "stdout",
     "output_type": "stream",
     "text": [
      "2.080303903416772\n",
      "Greater than 1\n"
     ]
    }
   ],
   "source": [
    "# CHAINED or elif\n",
    "#Chained Statements \n",
    "answer = None \n",
    "x = randn() \n",
    "\n",
    "if x > 1:\n",
    "    answer = \"Greater than 1\" \n",
    "elif x >= -1:\n",
    "    answer = \"Between -1 and 1\" \n",
    "else:\n",
    "    answer = \"Less than -1\"\n",
    "\n",
    "print(x) \n",
    "print(answer)"
   ]
  }
 ],
 "metadata": {
  "kernelspec": {
   "display_name": "Python 3.10.3 64-bit",
   "language": "python",
   "name": "python3"
  },
  "language_info": {
   "codemirror_mode": {
    "name": "ipython",
    "version": 3
   },
   "file_extension": ".py",
   "mimetype": "text/x-python",
   "name": "python",
   "nbconvert_exporter": "python",
   "pygments_lexer": "ipython3",
   "version": "3.10.3"
  },
  "orig_nbformat": 4,
  "vscode": {
   "interpreter": {
    "hash": "b7534786ec8a9cff2926c7e81f9ca1d65065bc188d16e9c2279a84a4000586bc"
   }
  }
 },
 "nbformat": 4,
 "nbformat_minor": 2
}

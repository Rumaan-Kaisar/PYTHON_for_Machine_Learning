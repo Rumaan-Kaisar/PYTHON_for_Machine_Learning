{
 "cells": [
  {
   "cell_type": "markdown",
   "metadata": {},
   "source": [
    "# ----------------    Geographical Plotting    ----------------\n",
    "#### more: https://plotly.com/python/choropleth-maps/\n",
    "\n",
    "### Choropleth Maps:\n",
    "    # A Choropleth map uses colors to represent data across geographic regions. "
   ]
  },
  {
   "cell_type": "code",
   "execution_count": 1,
   "metadata": {},
   "outputs": [
    {
     "data": {
      "text/html": [
       "        <script type=\"text/javascript\">\n",
       "        window.PlotlyConfig = {MathJaxConfig: 'local'};\n",
       "        if (window.MathJax && window.MathJax.Hub && window.MathJax.Hub.Config) {window.MathJax.Hub.Config({SVG: {font: \"STIX-Web\"}});}\n",
       "        if (typeof require !== 'undefined') {\n",
       "        require.undef(\"plotly\");\n",
       "        requirejs.config({\n",
       "            paths: {\n",
       "                'plotly': ['https://cdn.plot.ly/plotly-2.35.2.min']\n",
       "            }\n",
       "        });\n",
       "        require(['plotly'], function(Plotly) {\n",
       "            window._Plotly = Plotly;\n",
       "        });\n",
       "        }\n",
       "        </script>\n",
       "        "
      ]
     },
     "metadata": {},
     "output_type": "display_data"
    }
   ],
   "source": [
    "\n",
    "# import libraries\n",
    "import numpy as np\n",
    "import pandas as pd\n",
    "import cufflinks as cf\n",
    "\n",
    "# shows figures in ipynb\n",
    "%matplotlib inline\n",
    "\n",
    "# To remove 'warnings' use 'filterwarnings'\n",
    "import warnings\n",
    "warnings.filterwarnings('ignore')\n",
    "\n",
    "# Enable offline mode for interactive plotting\n",
    "cf.go_offline()\n",
    "\n",
    "\n",
    "# using local \"Plotly.js\"\n",
    "import plotly.io as pio\n",
    "import plotly.express as px\n",
    "from plotly.offline import iplot"
   ]
  },
  {
   "cell_type": "markdown",
   "metadata": {},
   "source": [
    "___"
   ]
  },
  {
   "cell_type": "markdown",
   "metadata": {},
   "source": [
    "\n",
    "Now, we need to begin building our data dictionary. The easiest way to do this is by using the `dict()` function with the following general structure:  \n",
    "\n",
    "- **type** = `'choropleth'`  \n",
    "- **locations** = List of states  \n",
    "- **locationmode** = `'USA-states'`  \n",
    "- **colorscale** = Choose a predefined or custom scale  \n",
    "- **text** = List or array of text to display per point  \n",
    "- **z** = Array of values for the z-axis (determining state color)  \n",
    "- **colorbar** = `{'title': 'Colorbar Title'}`  \n",
    "\n",
    "### **Choosing a Colorscale**  \n",
    "You can select from predefined color scales, such as:  \n",
    "\n",
    "- `'pairs'`  \n",
    "- `'Greys'`  \n",
    "- `'Greens'`  \n",
    "- `'Bluered'`  \n",
    "- `'Hot'`  \n",
    "- `'Picnic'`  \n",
    "- `'Portland'`  \n",
    "- `'Jet'`  \n",
    "- `'RdBu'`  \n",
    "- `'Blackbody'`  \n",
    "- `'Earth'`  \n",
    "- `'Electric'`  \n",
    "- `'YIOrRd'`  \n",
    "- `'YIGnBu'`  \n",
    "\n",
    "Alternatively, you can create a **custom colorscale** using the guide:  \n",
    "[Plotly Heatmap and Contour Colorscales](https://plot.ly/python/heatmap-and-contour-colorscales/)  \n",
    "\n",
    "### **Example Implementation**  \n",
    "Here, we define the dictionary as follows:  "
   ]
  },
  {
   "cell_type": "code",
   "execution_count": 6,
   "metadata": {},
   "outputs": [],
   "source": [
    "# first we build our data-dictionary\n",
    "# We'll use the dict() method to create a dictionary.\n",
    "    # to cast a list to the dictionary\n",
    "\n",
    "data = dict(type = 'choropleth',\n",
    "            locations = ['AZ', 'CA', 'NY'],\n",
    "            locationmode = 'USA-states',\n",
    "            colorscale = 'Portland',\n",
    "            text = ['text 1', 'text 2', 'text 3'],\n",
    "            z = [1.0, 2.0, 3.0],\n",
    "            colorbar = {'title':'colorbar title goes here'}\n",
    "        )\n",
    "\n",
    "# Define key elements:\n",
    "    # \"type\": Set as 'choropleth'\n",
    "    # \"locations\": List of state abbreviations (e.g., ['AZ', 'CA', 'NY']).\n",
    "    # \"locationmode\": Set to 'USA-states'. It'll let plotly know that we're doing this in US-level\n",
    "        # theres' also different location modes, more in \"documentation\"\n",
    "    # \"colorscale\": Choose a predefined color scheme (e.g., 'Portland') \n",
    "        # we can however use other colorscaleas such as green, grays\n",
    "    # \"text\": List of hover text values, i.e. each of the locations.\n",
    "    # \"z\": actual values shown in to the coloscale.\n",
    "    # \"colorbar\": Dictionary defining the \"color bar title\".\n",
    "\n",
    "# We use this kind of notation because it follows Plotly's documentation."
   ]
  },
  {
   "cell_type": "code",
   "execution_count": 7,
   "metadata": {},
   "outputs": [
    {
     "data": {
      "text/plain": [
       "{'type': 'choropleth',\n",
       " 'locations': ['AZ', 'CA', 'NY'],\n",
       " 'locationmode': 'USA-states',\n",
       " 'colorscale': 'Portland',\n",
       " 'text': ['text 1', 'text 2', 'text 3'],\n",
       " 'z': [1.0, 2.0, 3.0],\n",
       " 'colorbar': {'title': 'colorbar title goes here'}}"
      ]
     },
     "execution_count": 7,
     "metadata": {},
     "output_type": "execute_result"
    }
   ],
   "source": [
    "data"
   ]
  },
  {
   "cell_type": "code",
   "execution_count": 8,
   "metadata": {},
   "outputs": [],
   "source": [
    "# Now we create a Layout object/variable, it'll be a nested dictionary\n",
    "layout = dict(geo={'scope':'usa'})"
   ]
  },
  {
   "cell_type": "markdown",
   "metadata": {},
   "source": [
    "#### Notice that we have two main objects:\n",
    "    # 1. 'data' in dictionary form\n",
    "    # 2. 'layout'\n",
    "\n",
    "    # These are then passed into graph_objs.Figure()\n",
    "    # Finally, the figure is plotted using iplot"
   ]
  },
  {
   "cell_type": "code",
   "execution_count": 9,
   "metadata": {},
   "outputs": [],
   "source": [
    "# so we need to use graph_objs.figure\n",
    "import plotly.graph_objs as go\n",
    "\n",
    "choromap_1 = go.Figure(data= [data], layout=layout)\n",
    "# notice, \"data\" is already in dict form, but we're putting it inside a list"
   ]
  },
  {
   "cell_type": "code",
   "execution_count": null,
   "metadata": {},
   "outputs": [],
   "source": [
    "# Plot the figure\n",
    "iplot(choromap_1)"
   ]
  },
  {
   "cell_type": "code",
   "execution_count": 13,
   "metadata": {},
   "outputs": [],
   "source": [
    "# Save the figure as an HTML file\n",
    "pio.write_html(choromap_1, 'choromap_1.html', include_plotlyjs='./plotly-2.35.2.min.js')"
   ]
  },
  {
   "cell_type": "markdown",
   "metadata": {},
   "source": [
    "___"
   ]
  },
  {
   "cell_type": "markdown",
   "metadata": {},
   "source": [
    "## ----------------    USA map: using csv dataset    ----------------\n",
    "    # Another example with real data and more options  \n",
    "    # Agricultural exports by state in the USA"
   ]
  },
  {
   "cell_type": "code",
   "execution_count": 2,
   "metadata": {},
   "outputs": [
    {
     "data": {
      "text/html": [
       "<div>\n",
       "<style scoped>\n",
       "    .dataframe tbody tr th:only-of-type {\n",
       "        vertical-align: middle;\n",
       "    }\n",
       "\n",
       "    .dataframe tbody tr th {\n",
       "        vertical-align: top;\n",
       "    }\n",
       "\n",
       "    .dataframe thead th {\n",
       "        text-align: right;\n",
       "    }\n",
       "</style>\n",
       "<table border=\"1\" class=\"dataframe\">\n",
       "  <thead>\n",
       "    <tr style=\"text-align: right;\">\n",
       "      <th></th>\n",
       "      <th>code</th>\n",
       "      <th>state</th>\n",
       "      <th>category</th>\n",
       "      <th>total exports</th>\n",
       "      <th>beef</th>\n",
       "      <th>pork</th>\n",
       "      <th>poultry</th>\n",
       "      <th>dairy</th>\n",
       "      <th>fruits fresh</th>\n",
       "      <th>fruits proc</th>\n",
       "      <th>total fruits</th>\n",
       "      <th>veggies fresh</th>\n",
       "      <th>veggies proc</th>\n",
       "      <th>total veggies</th>\n",
       "      <th>corn</th>\n",
       "      <th>wheat</th>\n",
       "      <th>cotton</th>\n",
       "      <th>text</th>\n",
       "    </tr>\n",
       "  </thead>\n",
       "  <tbody>\n",
       "    <tr>\n",
       "      <th>0</th>\n",
       "      <td>AL</td>\n",
       "      <td>Alabama</td>\n",
       "      <td>state</td>\n",
       "      <td>1390.63</td>\n",
       "      <td>34.4</td>\n",
       "      <td>10.6</td>\n",
       "      <td>481.0</td>\n",
       "      <td>4.06</td>\n",
       "      <td>8.0</td>\n",
       "      <td>17.1</td>\n",
       "      <td>25.11</td>\n",
       "      <td>5.5</td>\n",
       "      <td>8.9</td>\n",
       "      <td>14.33</td>\n",
       "      <td>34.9</td>\n",
       "      <td>70.0</td>\n",
       "      <td>317.61</td>\n",
       "      <td>Alabama&lt;br&gt;Beef 34.4 Dairy 4.06&lt;br&gt;Fruits 25.1...</td>\n",
       "    </tr>\n",
       "    <tr>\n",
       "      <th>1</th>\n",
       "      <td>AK</td>\n",
       "      <td>Alaska</td>\n",
       "      <td>state</td>\n",
       "      <td>13.31</td>\n",
       "      <td>0.2</td>\n",
       "      <td>0.1</td>\n",
       "      <td>0.0</td>\n",
       "      <td>0.19</td>\n",
       "      <td>0.0</td>\n",
       "      <td>0.0</td>\n",
       "      <td>0.00</td>\n",
       "      <td>0.6</td>\n",
       "      <td>1.0</td>\n",
       "      <td>1.56</td>\n",
       "      <td>0.0</td>\n",
       "      <td>0.0</td>\n",
       "      <td>0.00</td>\n",
       "      <td>Alaska&lt;br&gt;Beef 0.2 Dairy 0.19&lt;br&gt;Fruits 0.0 Ve...</td>\n",
       "    </tr>\n",
       "    <tr>\n",
       "      <th>2</th>\n",
       "      <td>AZ</td>\n",
       "      <td>Arizona</td>\n",
       "      <td>state</td>\n",
       "      <td>1463.17</td>\n",
       "      <td>71.3</td>\n",
       "      <td>17.9</td>\n",
       "      <td>0.0</td>\n",
       "      <td>105.48</td>\n",
       "      <td>19.3</td>\n",
       "      <td>41.0</td>\n",
       "      <td>60.27</td>\n",
       "      <td>147.5</td>\n",
       "      <td>239.4</td>\n",
       "      <td>386.91</td>\n",
       "      <td>7.3</td>\n",
       "      <td>48.7</td>\n",
       "      <td>423.95</td>\n",
       "      <td>Arizona&lt;br&gt;Beef 71.3 Dairy 105.48&lt;br&gt;Fruits 60...</td>\n",
       "    </tr>\n",
       "    <tr>\n",
       "      <th>3</th>\n",
       "      <td>AR</td>\n",
       "      <td>Arkansas</td>\n",
       "      <td>state</td>\n",
       "      <td>3586.02</td>\n",
       "      <td>53.2</td>\n",
       "      <td>29.4</td>\n",
       "      <td>562.9</td>\n",
       "      <td>3.53</td>\n",
       "      <td>2.2</td>\n",
       "      <td>4.7</td>\n",
       "      <td>6.88</td>\n",
       "      <td>4.4</td>\n",
       "      <td>7.1</td>\n",
       "      <td>11.45</td>\n",
       "      <td>69.5</td>\n",
       "      <td>114.5</td>\n",
       "      <td>665.44</td>\n",
       "      <td>Arkansas&lt;br&gt;Beef 53.2 Dairy 3.53&lt;br&gt;Fruits 6.8...</td>\n",
       "    </tr>\n",
       "    <tr>\n",
       "      <th>4</th>\n",
       "      <td>CA</td>\n",
       "      <td>California</td>\n",
       "      <td>state</td>\n",
       "      <td>16472.88</td>\n",
       "      <td>228.7</td>\n",
       "      <td>11.1</td>\n",
       "      <td>225.4</td>\n",
       "      <td>929.95</td>\n",
       "      <td>2791.8</td>\n",
       "      <td>5944.6</td>\n",
       "      <td>8736.40</td>\n",
       "      <td>803.2</td>\n",
       "      <td>1303.5</td>\n",
       "      <td>2106.79</td>\n",
       "      <td>34.6</td>\n",
       "      <td>249.3</td>\n",
       "      <td>1064.95</td>\n",
       "      <td>California&lt;br&gt;Beef 228.7 Dairy 929.95&lt;br&gt;Frui...</td>\n",
       "    </tr>\n",
       "  </tbody>\n",
       "</table>\n",
       "</div>"
      ],
      "text/plain": [
       "  code        state category  total exports   beef  pork  poultry   dairy  \\\n",
       "0   AL      Alabama    state        1390.63   34.4  10.6    481.0    4.06   \n",
       "1   AK       Alaska    state          13.31    0.2   0.1      0.0    0.19   \n",
       "2   AZ      Arizona    state        1463.17   71.3  17.9      0.0  105.48   \n",
       "3   AR     Arkansas    state        3586.02   53.2  29.4    562.9    3.53   \n",
       "4   CA   California    state       16472.88  228.7  11.1    225.4  929.95   \n",
       "\n",
       "   fruits fresh  fruits proc  total fruits  veggies fresh  veggies proc  \\\n",
       "0           8.0         17.1         25.11            5.5           8.9   \n",
       "1           0.0          0.0          0.00            0.6           1.0   \n",
       "2          19.3         41.0         60.27          147.5         239.4   \n",
       "3           2.2          4.7          6.88            4.4           7.1   \n",
       "4        2791.8       5944.6       8736.40          803.2        1303.5   \n",
       "\n",
       "   total veggies  corn  wheat   cotton  \\\n",
       "0          14.33  34.9   70.0   317.61   \n",
       "1           1.56   0.0    0.0     0.00   \n",
       "2         386.91   7.3   48.7   423.95   \n",
       "3          11.45  69.5  114.5   665.44   \n",
       "4        2106.79  34.6  249.3  1064.95   \n",
       "\n",
       "                                                text  \n",
       "0  Alabama<br>Beef 34.4 Dairy 4.06<br>Fruits 25.1...  \n",
       "1  Alaska<br>Beef 0.2 Dairy 0.19<br>Fruits 0.0 Ve...  \n",
       "2  Arizona<br>Beef 71.3 Dairy 105.48<br>Fruits 60...  \n",
       "3  Arkansas<br>Beef 53.2 Dairy 3.53<br>Fruits 6.8...  \n",
       "4   California<br>Beef 228.7 Dairy 929.95<br>Frui...  "
      ]
     },
     "execution_count": 2,
     "metadata": {},
     "output_type": "execute_result"
    }
   ],
   "source": [
    "import pandas as pd\n",
    "\n",
    "df1 = pd.read_csv(\"./data_US_AGRI_Exports\")\n",
    "df1.head()"
   ]
  },
  {
   "cell_type": "markdown",
   "metadata": {},
   "source": [
    "#### Let's create our \"data\" and \"layout\" objects  "
   ]
  },
  {
   "cell_type": "code",
   "execution_count": 3,
   "metadata": {},
   "outputs": [],
   "source": [
    "\n",
    "data = dict(type='choropleth',  \n",
    "            colorscale='YlOrRd',  # Yellow-Orange-Red scale  \n",
    "            locations=df1['code'],  # State abbreviations  \n",
    "            locationmode='USA-states',  \n",
    "            z=df1['total exports'],  # Color intensities based on total exports  \n",
    "            text=df1['text'],  # Additional info for each state  \n",
    "            colorbar={'title': 'Millions USD'},  # Title for color scale  \n",
    "            marker=dict(line=dict(color='rgb(255,255,255)', width=2))  # White state borders  \n",
    "        )\n",
    "\n",
    "# Explanation of parameters:  \n",
    "#   - 'colorscale': Using 'YlOrRd' (Yellow-Orange-Red)  \n",
    "#   - 'locations': State abbreviations stored in df1['code']  \n",
    "#   - 'locationmode': 'USA-states' specifies a state-level map  \n",
    "#   - 'z': Total exports determine color intensities  \n",
    "#   - 'text': Labels from df1['text'], but often needs customization  \n",
    "#   - 'colorbar': Title represents exports in millions of USD  \n",
    "#   - 'marker': Defines state borders in white with a width of 2  \n",
    "\n",
    "# we need to modify:    layout = dict(geo={'scope':'usa'})\n",
    "layout = dict(  \n",
    "    title=\"2011 USA Agricultural Exports\",  \n",
    "    geo=dict(  \n",
    "        scope='usa',  \n",
    "        showlakes=True,  \n",
    "        lakecolor='rgb(85, 173, 240)'  # Blue lakes  \n",
    "    )  \n",
    ")\n"
   ]
  },
  {
   "cell_type": "code",
   "execution_count": 5,
   "metadata": {},
   "outputs": [],
   "source": [
    "# Create the map  \n",
    "import plotly.graph_objs as go\n",
    "choromap_2 = go.Figure(data=[data], layout=layout)\n",
    "\n",
    "# Save the figure as an HTML file  \n",
    "pio.write_html(choromap_2, 'choromap_2.html', include_plotlyjs='./plotly-2.35.2.min.js')"
   ]
  },
  {
   "cell_type": "code",
   "execution_count": 1,
   "metadata": {},
   "outputs": [],
   "source": [
    "# Notice as we hover over the \"states\", we can see all the \"text\".  \n",
    "# We can also see that the \"lakes\" are \"blue\".  \n",
    "# Observe the color scale and the title.  \n",
    "\n",
    "# Also, notice the spacing (white lines) between the states—this is due to the \"marker\" setting:  \n",
    "    # marker=dict(line=dict(color='rgb(255,255,255)', width=2))  \n",
    "    # We can increase the width if needed.  \n",
    "\n",
    "# Although the syntax and order might be confusing at first, Plotly works this way.  \n",
    "    # That's why we'll use this notebook as a reference \n",
    "    # and also refer to the documentation for Plotly's choropleth maps.  \n",
    "# Most of the time, we'll just copy and paste the code and fill in the gaps for our particular dataset.  \n",
    "# However, these techniques are valuable because they help create clear and visually appealing geographical plots.  "
   ]
  },
  {
   "cell_type": "markdown",
   "metadata": {},
   "source": [
    "___"
   ]
  },
  {
   "cell_type": "markdown",
   "metadata": {},
   "source": [
    "## ----------------    WORLD Map: Using CSV Dataset    ----------------\n",
    "    # Now we'll plot at the international level\n",
    "    # We'll consider the world GDP dataset of 2014"
   ]
  },
  {
   "cell_type": "code",
   "execution_count": 2,
   "metadata": {},
   "outputs": [
    {
     "data": {
      "text/html": [
       "<div>\n",
       "<style scoped>\n",
       "    .dataframe tbody tr th:only-of-type {\n",
       "        vertical-align: middle;\n",
       "    }\n",
       "\n",
       "    .dataframe tbody tr th {\n",
       "        vertical-align: top;\n",
       "    }\n",
       "\n",
       "    .dataframe thead th {\n",
       "        text-align: right;\n",
       "    }\n",
       "</style>\n",
       "<table border=\"1\" class=\"dataframe\">\n",
       "  <thead>\n",
       "    <tr style=\"text-align: right;\">\n",
       "      <th></th>\n",
       "      <th>COUNTRY</th>\n",
       "      <th>GDP (BILLIONS)</th>\n",
       "      <th>CODE</th>\n",
       "    </tr>\n",
       "  </thead>\n",
       "  <tbody>\n",
       "    <tr>\n",
       "      <th>0</th>\n",
       "      <td>Afghanistan</td>\n",
       "      <td>21.71</td>\n",
       "      <td>AFG</td>\n",
       "    </tr>\n",
       "    <tr>\n",
       "      <th>1</th>\n",
       "      <td>Albania</td>\n",
       "      <td>13.40</td>\n",
       "      <td>ALB</td>\n",
       "    </tr>\n",
       "    <tr>\n",
       "      <th>2</th>\n",
       "      <td>Algeria</td>\n",
       "      <td>227.80</td>\n",
       "      <td>DZA</td>\n",
       "    </tr>\n",
       "    <tr>\n",
       "      <th>3</th>\n",
       "      <td>American Samoa</td>\n",
       "      <td>0.75</td>\n",
       "      <td>ASM</td>\n",
       "    </tr>\n",
       "    <tr>\n",
       "      <th>4</th>\n",
       "      <td>Andorra</td>\n",
       "      <td>4.80</td>\n",
       "      <td>AND</td>\n",
       "    </tr>\n",
       "  </tbody>\n",
       "</table>\n",
       "</div>"
      ],
      "text/plain": [
       "          COUNTRY  GDP (BILLIONS) CODE\n",
       "0     Afghanistan           21.71  AFG\n",
       "1         Albania           13.40  ALB\n",
       "2         Algeria          227.80  DZA\n",
       "3  American Samoa            0.75  ASM\n",
       "4         Andorra            4.80  AND"
      ]
     },
     "execution_count": 2,
     "metadata": {},
     "output_type": "execute_result"
    }
   ],
   "source": [
    "import pandas as pd\n",
    "\n",
    "df2 = pd.read_csv('./data_World_GDP')\n",
    "df2.head()"
   ]
  },
  {
   "cell_type": "code",
   "execution_count": 3,
   "metadata": {},
   "outputs": [],
   "source": [
    "# \"data\" and \"layout\". More on Plotly documentation: https://plot.ly/python/reference/#choropleth  \n",
    "# We'll get all the argument details (e.g., projection)  \n",
    "\n",
    "data_w = dict(\n",
    "    type='choropleth',\n",
    "    locations=df2['CODE'],  # Country abbreviations  \n",
    "    locationmode='ISO-3',  # Correct location mode for world maps  \n",
    "    z=df2['GDP (BILLIONS)'],  # Color intensities based on country's GDP  \n",
    "    text=df2['COUNTRY'],  # Name of each country  \n",
    "    colorbar={'title': 'GDP in billion USD'},  # Title for the color scale  \n",
    ")\n",
    "\n",
    "# Modify the layout  \n",
    "layout_w = dict(  \n",
    "    title=\"2014 Global GDP\",  \n",
    "    geo=dict(  \n",
    "        showframe=False,\n",
    "        projection={'type': 'mercator'}\n",
    "        # used 'mercator' instead of 'Mercator'\n",
    "    )  \n",
    ")\n",
    "\n",
    "# Notice no 'locationmode' or 'scope' is used for a world map  \n",
    "# Create the map  \n",
    "import plotly.graph_objs as go\n",
    "\n",
    "choromap_3 = go.Figure(data=[data_w], layout=layout_w)\n",
    "\n",
    "# Save the figure as an HTML file  \n",
    "pio.write_html(choromap_3, 'choromap_3.html', include_plotlyjs='./plotly-2.35.2.min.js')\n",
    "\n",
    "# Notice the color intensity indicates more developed countries like the USA or China  "
   ]
  }
 ],
 "metadata": {
  "kernelspec": {
   "display_name": "Python 3.10.3 64-bit",
   "language": "python",
   "name": "python3"
  },
  "language_info": {
   "codemirror_mode": {
    "name": "ipython",
    "version": 3
   },
   "file_extension": ".py",
   "mimetype": "text/x-python",
   "name": "python",
   "nbconvert_exporter": "python",
   "pygments_lexer": "ipython3",
   "version": "3.10.3"
  },
  "orig_nbformat": 4,
  "vscode": {
   "interpreter": {
    "hash": "b7534786ec8a9cff2926c7e81f9ca1d65065bc188d16e9c2279a84a4000586bc"
   }
  }
 },
 "nbformat": 4,
 "nbformat_minor": 2
}

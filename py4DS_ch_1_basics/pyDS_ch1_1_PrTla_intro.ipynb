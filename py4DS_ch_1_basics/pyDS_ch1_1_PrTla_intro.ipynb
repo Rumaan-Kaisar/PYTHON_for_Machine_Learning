{
 "cells": [
  {
   "cell_type": "code",
   "execution_count": 2,
   "metadata": {},
   "outputs": [],
   "source": [
    "# Shift + Enter : to run a code and open a 'New cell'"
   ]
  },
  {
   "cell_type": "code",
   "execution_count": 4,
   "metadata": {},
   "outputs": [
    {
     "name": "stdout",
     "output_type": "stream",
     "text": [
      "Hello\n"
     ]
    }
   ],
   "source": [
    "print('Hello')"
   ]
  },
  {
   "cell_type": "code",
   "execution_count": 5,
   "metadata": {},
   "outputs": [
    {
     "data": {
      "text/plain": [
       "3"
      ]
     },
     "execution_count": 5,
     "metadata": {},
     "output_type": "execute_result"
    }
   ],
   "source": [
    "1+2"
   ]
  },
  {
   "cell_type": "code",
   "execution_count": null,
   "metadata": {},
   "outputs": [],
   "source": [
    "# ctrl + enter: works for VS-code (Jupyter NB)"
   ]
  },
  {
   "cell_type": "code",
   "execution_count": 6,
   "metadata": {},
   "outputs": [
    {
     "name": "stdout",
     "output_type": "stream",
     "text": [
      "AlphaGO\n"
     ]
    },
    {
     "data": {
      "text/plain": [
       "82"
      ]
     },
     "execution_count": 6,
     "metadata": {},
     "output_type": "execute_result"
    }
   ],
   "source": [
    "# ALt + Enter: same as 'Shift + Enter',  to run a code and open a 'New cell'\n",
    "print(\"AlphaGO\")\n",
    "5+77"
   ]
  },
  {
   "cell_type": "code",
   "execution_count": null,
   "metadata": {},
   "outputs": [],
   "source": [
    "# A Jypyter NB file can be exported as 'py' file"
   ]
  },
  {
   "cell_type": "markdown",
   "metadata": {},
   "source": [
    "# print('Wanna Markdown')"
   ]
  },
  {
   "cell_type": "markdown",
   "metadata": {},
   "source": [
    "## print('Wanna Markdown')\n"
   ]
  },
  {
   "cell_type": "markdown",
   "metadata": {},
   "source": [
    "### print('Wanna Markdown')"
   ]
  },
  {
   "cell_type": "markdown",
   "metadata": {},
   "source": [
    "#### print('Wanna Markdown')"
   ]
  },
  {
   "cell_type": "markdown",
   "metadata": {},
   "source": [
    "##### print('Wanna Markdown')"
   ]
  },
  {
   "cell_type": "markdown",
   "metadata": {},
   "source": [
    "###### print('Wanna Markdown')"
   ]
  },
  {
   "cell_type": "markdown",
   "metadata": {},
   "source": [
    "*AMPLIFY*"
   ]
  },
  {
   "cell_type": "markdown",
   "metadata": {},
   "source": []
  },
  {
   "cell_type": "markdown",
   "metadata": {},
   "source": [
    "# Markdown Basics"
   ]
  },
  {
   "cell_type": "markdown",
   "metadata": {},
   "source": [
    "These are some of the basic syntaxes for 'formatting text' in Jupyter Markdown. \n",
    "    You can combine these elements to create more complex documents."
   ]
  },
  {
   "cell_type": "markdown",
   "metadata": {},
   "source": [
    "### 1. Headings: \n",
    "        Use the pound symbol (#) followed by a space to create headings. \n",
    "        The number of pound symbols indicates the level of the heading (from 1 to 6, with 1 being the highest level).\n",
    "            Use #, ##, ###, ####, #####, ###### for For 6-level of 'Headings'\n",
    "        \n",
    "        Example:\n",
    "            # Heading 1\n",
    "            ## Heading 2\n",
    "            ### Heading 3\n"
   ]
  },
  {
   "cell_type": "markdown",
   "metadata": {},
   "source": [
    "# Heading 1\n",
    "## Heading 2\n",
    "### Heading 3"
   ]
  },
  {
   "cell_type": "markdown",
   "metadata": {},
   "source": [
    "---"
   ]
  },
  {
   "cell_type": "markdown",
   "metadata": {},
   "source": [
    "### 2. Bold Text:\n",
    "        Surround the text with double asterisks (**) or double underscores (__)\n",
    "        \"No space\"\n",
    "\n",
    "        Example:\n",
    "            __Bold Text__\n",
    "            **Bold Text**"
   ]
  },
  {
   "cell_type": "markdown",
   "metadata": {},
   "source": [
    "\n",
    "**Bold Text**\n",
    "__Bold Text__"
   ]
  },
  {
   "cell_type": "markdown",
   "metadata": {},
   "source": [
    "---"
   ]
  },
  {
   "cell_type": "markdown",
   "metadata": {},
   "source": [
    "### 3. Italic Text:\n",
    "        Surround the text with single asterisks (*) or single underscores (_)\n",
    "        \"No space\"\n",
    "\n",
    "        Example:\n",
    "            *Italic Text*\n",
    "            _Italic Text_"
   ]
  },
  {
   "cell_type": "markdown",
   "metadata": {},
   "source": [
    "*Italic Text*\n",
    "_Italic Text_"
   ]
  },
  {
   "cell_type": "markdown",
   "metadata": {},
   "source": [
    "---"
   ]
  },
  {
   "cell_type": "markdown",
   "metadata": {},
   "source": [
    "### 4. Bulleted Lists:\n",
    "    Use asterisks (*), plus signs (+), or hyphens (-) \"followed by a space\"\n",
    "\n",
    "    Example:\n",
    "        - Item 1\n",
    "        - Item 2\n",
    "            * Sub-item 1\n",
    "            * Sub-item 2"
   ]
  },
  {
   "cell_type": "markdown",
   "metadata": {},
   "source": [
    "- Item 1\n",
    "- Item 2\n",
    "    * Sub-item 1\n",
    "    * Sub-item 2"
   ]
  },
  {
   "cell_type": "markdown",
   "metadata": {},
   "source": [
    "---"
   ]
  },
  {
   "cell_type": "markdown",
   "metadata": {},
   "source": [
    "### 5. Numbered Lists:\n",
    "    Use numbers followed by a period (.) and \"a space\" to create numbered lists.\n",
    "\n",
    "    Example:\n",
    "        1. First item\n",
    "        2. Second item"
   ]
  },
  {
   "cell_type": "markdown",
   "metadata": {},
   "source": [
    "1. First item\n",
    "2. Second item"
   ]
  },
  {
   "cell_type": "markdown",
   "metadata": {},
   "source": [
    "---"
   ]
  },
  {
   "cell_type": "markdown",
   "metadata": {},
   "source": [
    "### 6. Links:\n",
    "    Enclose the 'text' you want to display in square brackets [] and \n",
    "    the 'URL' in parentheses ().\n",
    "\n",
    "    Example:\n",
    "        [OpenAI's website](https://openai.com)"
   ]
  },
  {
   "cell_type": "markdown",
   "metadata": {},
   "source": [
    "[OpenAI's website](https://openai.com)"
   ]
  },
  {
   "cell_type": "markdown",
   "metadata": {},
   "source": [
    "---"
   ]
  },
  {
   "cell_type": "markdown",
   "metadata": {},
   "source": [
    "### 7. Images:\n",
    "    Similar to links, but with an exclamation mark (!) before the square brackets.\n",
    "    Also you can use HTML tag <img src>\n",
    "\n",
    "    Example:\n",
    "        ![Alt text](path/to/image.png)\n",
    "        or\n",
    "        <img src='.././path'>"
   ]
  },
  {
   "cell_type": "markdown",
   "metadata": {},
   "source": [
    "![Alt text: Works for URL](./Capture.PNG)"
   ]
  },
  {
   "cell_type": "markdown",
   "metadata": {},
   "source": [
    "<img alt=\"Test Image: : Works for URL\" src=\"./z_test_img_for_jyptrNB.jpg\">\n",
    "\n",
    "When you provide a URL to an image hosted online, Markdown is able to fetch and display the image directly from the internet because it can access the image file through its URL.\n",
    "\n",
    "However, when you provide a local image path (e.g., \"./z_test_img_for_jyptrNB.jpg\"), Markdown expects the image file to be present locally on the system where the Jupyter Notebook server is running. If the image file is not located in the correct directory relative to the Jupyter Notebook or if the notebook server does not have permission to access the file, Markdown will not be able to display the image.\n",
    "\n",
    "To display local images in Jupyter Notebook Markdown cells, ensure that the image file is located in the correct directory relative to the notebook file, and provide the correct path to the image file. Additionally, make sure that the notebook server has permission to access the file."
   ]
  },
  {
   "cell_type": "markdown",
   "metadata": {},
   "source": [
    "![Alt text](https://avatars.githubusercontent.com/u/75844616?s=400&u=cd73957aee57e228caccba1a492e93040ef1f009&v=4)"
   ]
  },
  {
   "cell_type": "markdown",
   "metadata": {},
   "source": [
    "---"
   ]
  },
  {
   "cell_type": "markdown",
   "metadata": {},
   "source": [
    "### 8. Horizontal Rule:\n",
    "    Use three or more hyphens (---), asterisks (***), or underscores (___) on a line by themselves to create a horizontal rule.\n",
    "\n",
    "    Example:\n",
    "        ---"
   ]
  },
  {
   "cell_type": "markdown",
   "metadata": {},
   "source": [
    "---"
   ]
  },
  {
   "cell_type": "markdown",
   "metadata": {},
   "source": [
    "### 9. Center aligned text\n",
    "\n",
    "    To center-align text in a Markdown cell in Jupyter Notebook: \n",
    "        Use HTML formatting tags. Specifically, you can use the <div> tag with the style attribute set to text-align: center;\n",
    "    \n",
    "    Example: \n",
    "        <div style=\"text-align: center;\">\n",
    "            This text will be centered.\n",
    "        </div>"
   ]
  },
  {
   "cell_type": "markdown",
   "metadata": {},
   "source": [
    "<div style=\"text-align: center; font-size: 40px; font-weight: bold; font-style: italic;\">\n",
    "    This text will be centered.\n",
    "</div>"
   ]
  },
  {
   "cell_type": "markdown",
   "metadata": {},
   "source": [
    "# **Indenting** Cause problems in _MarkDown_"
   ]
  },
  {
   "cell_type": "markdown",
   "metadata": {},
   "source": []
  }
 ],
 "metadata": {
  "kernelspec": {
   "display_name": "Python 3.10.3 64-bit",
   "language": "python",
   "name": "python3"
  },
  "language_info": {
   "codemirror_mode": {
    "name": "ipython",
    "version": 3
   },
   "file_extension": ".py",
   "mimetype": "text/x-python",
   "name": "python",
   "nbconvert_exporter": "python",
   "pygments_lexer": "ipython3",
   "version": "3.10.3"
  },
  "orig_nbformat": 4,
  "vscode": {
   "interpreter": {
    "hash": "b7534786ec8a9cff2926c7e81f9ca1d65065bc188d16e9c2279a84a4000586bc"
   }
  }
 },
 "nbformat": 4,
 "nbformat_minor": 2
}

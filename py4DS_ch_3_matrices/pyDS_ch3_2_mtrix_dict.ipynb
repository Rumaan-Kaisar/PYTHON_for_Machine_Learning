{
 "cells": [
  {
   "cell_type": "code",
   "execution_count": 3,
   "metadata": {},
   "outputs": [],
   "source": [
    "import numpy as np\n",
    "\n",
    "a = [.00, .01, .02]\n",
    "b = [.10, .11, .12]\n",
    "c = [.20, .21, .22]"
   ]
  },
  {
   "cell_type": "code",
   "execution_count": 4,
   "metadata": {},
   "outputs": [],
   "source": [
    "mat_1 = np.array([a, b, c])"
   ]
  },
  {
   "cell_type": "code",
   "execution_count": 5,
   "metadata": {},
   "outputs": [
    {
     "data": {
      "text/plain": [
       "array([[0.  , 0.01, 0.02],\n",
       "       [0.1 , 0.11, 0.12],\n",
       "       [0.2 , 0.21, 0.22]])"
      ]
     },
     "execution_count": 5,
     "metadata": {},
     "output_type": "execute_result"
    }
   ],
   "source": [
    "mat_1"
   ]
  },
  {
   "cell_type": "code",
   "execution_count": 1,
   "metadata": {},
   "outputs": [
    {
     "name": "stdout",
     "output_type": "stream",
     "text": [
      "[ 0  1  2  3  4  5  6  7  8  9 10 11 12 13 14 15 16 17 18 19]\n"
     ]
    },
    {
     "data": {
      "text/plain": [
       "numpy.ndarray"
      ]
     },
     "execution_count": 1,
     "metadata": {},
     "output_type": "execute_result"
    }
   ],
   "source": [
    "# np.reshape(data, (row, column))\n",
    "import numpy as np\n",
    "mydata = np.arange(0, 20) # create a list of 20 numbers\n",
    "print(mydata)\n",
    "type(mydata)"
   ]
  },
  {
   "cell_type": "code",
   "execution_count": 2,
   "metadata": {},
   "outputs": [
    {
     "data": {
      "text/plain": [
       "array([[ 0,  1,  2,  3,  4],\n",
       "       [ 5,  6,  7,  8,  9],\n",
       "       [10, 11, 12, 13, 14],\n",
       "       [15, 16, 17, 18, 19]])"
      ]
     },
     "execution_count": 2,
     "metadata": {},
     "output_type": "execute_result"
    }
   ],
   "source": [
    "np.reshape(mydata, (4, 5))"
   ]
  },
  {
   "cell_type": "code",
   "execution_count": 3,
   "metadata": {},
   "outputs": [
    {
     "data": {
      "text/plain": [
       "array([[ 0,  1,  2,  3,  4],\n",
       "       [ 5,  6,  7,  8,  9],\n",
       "       [10, 11, 12, 13, 14],\n",
       "       [15, 16, 17, 18, 19]])"
      ]
     },
     "execution_count": 3,
     "metadata": {},
     "output_type": "execute_result"
    }
   ],
   "source": [
    "# applying order-flags 'F', 'C'\n",
    "np.reshape(mydata, (4, 5), order='C')"
   ]
  },
  {
   "cell_type": "code",
   "execution_count": 4,
   "metadata": {},
   "outputs": [
    {
     "data": {
      "text/plain": [
       "array([[ 0,  4,  8, 12, 16],\n",
       "       [ 1,  5,  9, 13, 17],\n",
       "       [ 2,  6, 10, 14, 18],\n",
       "       [ 3,  7, 11, 15, 19]])"
      ]
     },
     "execution_count": 4,
     "metadata": {},
     "output_type": "execute_result"
    }
   ],
   "source": [
    "np.reshape(mydata, (4, 5), order='F')"
   ]
  },
  {
   "cell_type": "code",
   "execution_count": 5,
   "metadata": {},
   "outputs": [],
   "source": [
    "# applying order-flags 'F', 'C'\n",
    "mat_1 = np.reshape(mydata, (4, 5), order='C')\n",
    "mat_2 = np.reshape(mydata, (4, 5), order='F')"
   ]
  },
  {
   "cell_type": "code",
   "execution_count": 8,
   "metadata": {},
   "outputs": [
    {
     "name": "stdout",
     "output_type": "stream",
     "text": [
      "14\n",
      "18\n"
     ]
    }
   ],
   "source": [
    "print(mat_1[2, 4])\n",
    "print(mat_2[2, 4])"
   ]
  },
  {
   "cell_type": "markdown",
   "metadata": {},
   "source": []
  },
  {
   "cell_type": "code",
   "execution_count": 10,
   "metadata": {},
   "outputs": [
    {
     "name": "stdout",
     "output_type": "stream",
     "text": [
      "[0, 1, 2, 3, 4, 5, 6, 7, 8, 9, 10, 11, 12, 13, 14, 15, 16, 17, 18, 19]\n"
     ]
    },
    {
     "data": {
      "text/plain": [
       "list"
      ]
     },
     "execution_count": 10,
     "metadata": {},
     "output_type": "execute_result"
    }
   ],
   "source": [
    "# creating matrices from a list (no 'numpy.ndarray' TYPE)\n",
    "import numpy as np\n",
    "mydata_2 = list(range(20)) # create a list of 20 numbers\n",
    "print(mydata_2)\n",
    "type(mydata_2)    # numpy.ndarray"
   ]
  },
  {
   "cell_type": "code",
   "execution_count": 11,
   "metadata": {},
   "outputs": [
    {
     "data": {
      "text/plain": [
       "array([[ 0,  1,  2,  3,  4],\n",
       "       [ 5,  6,  7,  8,  9],\n",
       "       [10, 11, 12, 13, 14],\n",
       "       [15, 16, 17, 18, 19]])"
      ]
     },
     "execution_count": 11,
     "metadata": {},
     "output_type": "execute_result"
    }
   ],
   "source": [
    "np.reshape(mydata_2, (4, 5))"
   ]
  },
  {
   "cell_type": "code",
   "execution_count": 12,
   "metadata": {},
   "outputs": [
    {
     "name": "stdout",
     "output_type": "stream",
     "text": [
      "14\n",
      "18\n"
     ]
    }
   ],
   "source": [
    "# applying order-flags 'F', 'C'\n",
    "mat_1 = np.reshape(mydata_2, (4, 5), order='C')\n",
    "mat_2 = np.reshape(mydata_2, (4, 5), order='F')\n",
    "\n",
    "# getting individual element\n",
    "print(mat_1[2, 4])  # 14\n",
    "print(mat_2[2, 4])  # 18"
   ]
  },
  {
   "cell_type": "code",
   "execution_count": 11,
   "metadata": {},
   "outputs": [
    {
     "data": {
      "text/plain": [
       "array([['I', 'am', 'happy'],\n",
       "       ['What', 'a', 'day'],\n",
       "       ['1', '2', '3']], dtype='<U5')"
      ]
     },
     "execution_count": 11,
     "metadata": {},
     "output_type": "execute_result"
    }
   ],
   "source": [
    "# METHOD 2:  np.array()\n",
    "import numpy as np\n",
    "\n",
    "r1 = [\"I\", \"am\", \"happy\"] \n",
    "r2 = [\"What\", \"a\", \"day\"] \n",
    "r3 = [1, 2, 3]\n",
    "# r4 = [2.5, 3.7, 3.1415, 1.618]\n",
    "\n",
    "# create a \"list-of-list\"\n",
    "li_li = [r1, r2, r3]\n",
    "\n",
    "# np.array will combine this li_li into a matrix row-by-row\n",
    "    # there is also type-info in \"dtype\"\n",
    "    # also numerical data will change into \"string\" if strings are present\n",
    "    # we can have ony one type of data in an \"array\"\n",
    "np.array(li_li, dtype='<U5') \n",
    "\n"
   ]
  },
  {
   "cell_type": "code",
   "execution_count": 13,
   "metadata": {},
   "outputs": [
    {
     "data": {
      "text/plain": [
       "array([list(['I', 'am', 'happy']), list(['What', 'a', 'day']),\n",
       "       list([1, 2, 3]), list([2.5, 3.7, 3.1415, 1.618])], dtype=object)"
      ]
     },
     "execution_count": 13,
     "metadata": {},
     "output_type": "execute_result"
    }
   ],
   "source": [
    "# Example 2: using '<U5' dtype\n",
    "import numpy as np\n",
    "\n",
    "r1 = [\"I\", \"am\", \"happy\"] \n",
    "r2 = [\"What\", \"a\", \"day\"] \n",
    "r3 = [1, 2, 3]\n",
    "r4 = [2.5, 3.7, 3.1415, 1.618]\n",
    "\n",
    "\n",
    "li_li = [r1, r2, r3, r4]\n",
    "\n",
    "np.array(li_li, dtype=object)\n",
    "# array([['I', 'am', 'happy'],\n",
    "#        ['What', 'a', 'day'],\n",
    "#        ['1', '2', '3']], dtype='<U5') "
   ]
  },
  {
   "cell_type": "code",
   "execution_count": 14,
   "metadata": {},
   "outputs": [
    {
     "data": {
      "text/plain": [
       "array([['I', 'am', 'happy'],\n",
       "       ['What', 'a', 'day'],\n",
       "       ['1', '2', '3'],\n",
       "       ['2.5', '3.7', '3.141']], dtype='<U5')"
      ]
     },
     "execution_count": 14,
     "metadata": {},
     "output_type": "execute_result"
    }
   ],
   "source": [
    "import numpy as np\n",
    "\n",
    "r1 = [\"I\", \"am\", \"happy\"] \n",
    "r2 = [\"What\", \"a\", \"day\"] \n",
    "r3 = [1, 2, 3]\n",
    "r4 = [2.5, 3.7, 3.1415]\n",
    "\n",
    "\n",
    "li_li = [r1, r2, r3, r4]\n",
    "\n",
    "np.array(li_li, dtype='<U5')"
   ]
  },
  {
   "cell_type": "markdown",
   "metadata": {},
   "source": []
  },
  {
   "cell_type": "code",
   "execution_count": 3,
   "metadata": {},
   "outputs": [],
   "source": [
    "# ------------------    Dictionaries    ------------------\n",
    "import numpy as np\n",
    "# ----    Games    ----\n",
    "KobeBryant_G = [80,77,82,82,73,82,58,78,6,35]\n",
    "JoeJohnson_G = [82,57,82,79,76,72,60,72,79,80]\n",
    "LeBronJames_G = [79,78,75,81,76,79,62,76,77,69]\n",
    "CarmeloAnthony_G = [80,65,77,66,69,77,55,67,77,40]\n",
    "DwightHoward_G = [82,82,82,79,82,78,54,76,71,41]\n",
    "ChrisBosh_G = [70,69,67,77,70,77,57,74,79,44]\n",
    "ChrisPaul_G = [78,64,80,78,45,80,60,70,62,82]\n",
    "KevinDurant_G = [35,35,80,74,82,78,66,81,81,27]\n",
    "DerrickRose_G = [40,40,40,81,78,81,39,0,10,51]\n",
    "DwayneWade_G = [75,51,51,79,77,76,49,69,54,62]"
   ]
  },
  {
   "cell_type": "code",
   "execution_count": 4,
   "metadata": {},
   "outputs": [
    {
     "name": "stdout",
     "output_type": "stream",
     "text": [
      "[80 77 82 82 73 82 58 78  6 35]\n",
      "[79 78 75 81 76 79 62 76 77 69]\n",
      "69\n",
      "69\n"
     ]
    }
   ],
   "source": [
    "# Matrix\n",
    "Games = np.array([KobeBryant_G, JoeJohnson_G, LeBronJames_G, CarmeloAnthony_G, DwightHoward_G, ChrisBosh_G, ChrisPaul_G, KevinDurant_G, DerrickRose_G, DwayneWade_G])\n",
    "\n",
    "# acessing : But it's hard to indicate the PLAYER\n",
    "print(Games[0])\n",
    "print(Games[2])\n",
    "\n",
    "print(Games[2][9])\n",
    "# alternative\n",
    "print(Games[2][-1])"
   ]
  }
 ],
 "metadata": {
  "kernelspec": {
   "display_name": "Python 3.10.3 64-bit",
   "language": "python",
   "name": "python3"
  },
  "language_info": {
   "codemirror_mode": {
    "name": "ipython",
    "version": 3
   },
   "file_extension": ".py",
   "mimetype": "text/x-python",
   "name": "python",
   "nbconvert_exporter": "python",
   "pygments_lexer": "ipython3",
   "version": "3.10.3"
  },
  "orig_nbformat": 4,
  "vscode": {
   "interpreter": {
    "hash": "b7534786ec8a9cff2926c7e81f9ca1d65065bc188d16e9c2279a84a4000586bc"
   }
  }
 },
 "nbformat": 4,
 "nbformat_minor": 2
}

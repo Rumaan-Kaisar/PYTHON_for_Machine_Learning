{
 "cells": [
  {
   "cell_type": "markdown",
   "metadata": {},
   "source": [
    "# ------------    SF Salaries Exercise    ------------ \n",
    "We will be using the [SF Salaries Dataset](https://www.kaggle.com/kaggle/sf-salaries) from Kaggle! link: (https://www.kaggle.com/kaggle/sf-salaries)<br>\n",
    "Just follow along and complete the tasks outlined in bold below. <br>\n",
    "The tasks will get harder and harder as you go along."
   ]
  }
 ],
 "metadata": {
  "language_info": {
   "name": "python"
  },
  "orig_nbformat": 4
 },
 "nbformat": 4,
 "nbformat_minor": 2
}

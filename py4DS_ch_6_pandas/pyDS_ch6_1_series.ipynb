{
 "cells": [
  {
   "cell_type": "markdown",
   "metadata": {},
   "source": [
    "## --------    series    --------\n",
    "    # it's the one of the \"Pandas Data-type\"\n",
    "        # we'll use series a lot to build Data-Frames\n",
    "\n",
    "    # A \"series\" is very similar to \"numpy-array\"\n",
    "        # it's actually built on top of \"numpy-array object\"\n",
    "\n",
    "    # The difference bewteen \"pandas-series\" and \"numpy-array\" is:\n",
    "        # series can access lebels, i.e. it can \"indexed by labels\""
   ]
  },
  {
   "cell_type": "code",
   "execution_count": 1,
   "metadata": {},
   "outputs": [],
   "source": [
    "# lets create some series from various object types\n",
    "import numpy as np\n",
    "import pandas as pd"
   ]
  },
  {
   "cell_type": "code",
   "execution_count": 2,
   "metadata": {},
   "outputs": [],
   "source": [
    "# we create 4 different python objects: 2 lists, 1 np-array, 1 dict\n",
    "laBls = ['a', 'b', 'c']\n",
    "my_dt = [10, 20, 30]\n",
    "arr = np.array(my_dt)   # convert to numpy-array\n",
    "dct = {'a':10, 'b':20, 'c':30}"
   ]
  },
  {
   "cell_type": "markdown",
   "metadata": {},
   "source": [
    "### ------  creating a series  ------\n",
    "    # pd.Series() takes lots of parameters. \n",
    "    # We'll use the parameters \"data\" & \"index\""
   ]
  },
  {
   "cell_type": "code",
   "execution_count": 3,
   "metadata": {},
   "outputs": [
    {
     "data": {
      "text/plain": [
       "0    10\n",
       "1    20\n",
       "2    30\n",
       "dtype: int64"
      ]
     },
     "execution_count": 3,
     "metadata": {},
     "output_type": "execute_result"
    }
   ],
   "source": [
    "\n",
    "pd.Series(data=my_dt)   # notice the index appears autometically"
   ]
  },
  {
   "cell_type": "code",
   "execution_count": 4,
   "metadata": {},
   "outputs": [
    {
     "data": {
      "text/plain": [
       "a    10\n",
       "b    20\n",
       "c    30\n",
       "dtype: int64"
      ]
     },
     "execution_count": 4,
     "metadata": {},
     "output_type": "execute_result"
    }
   ],
   "source": [
    "# The special thing is: we can set our own index\n",
    "# following we set the list \"laBls\" as the index to the \"Series\"\n",
    "sr_1 = pd.Series(data=my_dt, index=laBls)\n",
    "sr_1\n",
    "\n",
    "# so unlike np-array we can have lables in a Series\n",
    "# we can access the elements by their 'lables'"
   ]
  },
  {
   "cell_type": "code",
   "execution_count": 5,
   "metadata": {},
   "outputs": [
    {
     "data": {
      "text/plain": [
       "20"
      ]
     },
     "execution_count": 5,
     "metadata": {},
     "output_type": "execute_result"
    }
   ],
   "source": [
    "sr_1['b']"
   ]
  },
  {
   "cell_type": "markdown",
   "metadata": {},
   "source": [
    "\n",
    "### ----  other ways to create a series  ----"
   ]
  }
 ],
 "metadata": {
  "kernelspec": {
   "display_name": "Python 3.10.3 64-bit",
   "language": "python",
   "name": "python3"
  },
  "language_info": {
   "codemirror_mode": {
    "name": "ipython",
    "version": 3
   },
   "file_extension": ".py",
   "mimetype": "text/x-python",
   "name": "python",
   "nbconvert_exporter": "python",
   "pygments_lexer": "ipython3",
   "version": "3.10.3"
  },
  "orig_nbformat": 4,
  "vscode": {
   "interpreter": {
    "hash": "b7534786ec8a9cff2926c7e81f9ca1d65065bc188d16e9c2279a84a4000586bc"
   }
  }
 },
 "nbformat": 4,
 "nbformat_minor": 2
}

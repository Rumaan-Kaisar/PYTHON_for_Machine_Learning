{
 "cells": [
  {
   "cell_type": "markdown",
   "metadata": {},
   "source": [
    "# ----------------    Geographical Plotting    ----------------\n",
    "#### more: https://plotly.com/python/choropleth-maps/\n",
    "\n",
    "### Choropleth Maps:\n",
    "    # A Choropleth map uses colors to represent data across geographic regions. "
   ]
  }
 ],
 "metadata": {
  "language_info": {
   "name": "python"
  },
  "orig_nbformat": 4
 },
 "nbformat": 4,
 "nbformat_minor": 2
}

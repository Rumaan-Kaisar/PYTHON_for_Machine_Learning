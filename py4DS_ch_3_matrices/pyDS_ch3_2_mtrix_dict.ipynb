{
 "cells": [
  {
   "cell_type": "code",
   "execution_count": 3,
   "metadata": {},
   "outputs": [],
   "source": [
    "import numpy as np\n",
    "\n",
    "a = [.00, .01, .02]\n",
    "b = [.10, .11, .12]\n",
    "c = [.20, .21, .22]"
   ]
  },
  {
   "cell_type": "code",
   "execution_count": 4,
   "metadata": {},
   "outputs": [],
   "source": [
    "mat_1 = np.array([a, b, c])"
   ]
  },
  {
   "cell_type": "code",
   "execution_count": 5,
   "metadata": {},
   "outputs": [
    {
     "data": {
      "text/plain": [
       "array([[0.  , 0.01, 0.02],\n",
       "       [0.1 , 0.11, 0.12],\n",
       "       [0.2 , 0.21, 0.22]])"
      ]
     },
     "execution_count": 5,
     "metadata": {},
     "output_type": "execute_result"
    }
   ],
   "source": [
    "mat_1"
   ]
  },
  {
   "cell_type": "code",
   "execution_count": 1,
   "metadata": {},
   "outputs": [
    {
     "name": "stdout",
     "output_type": "stream",
     "text": [
      "[ 0  1  2  3  4  5  6  7  8  9 10 11 12 13 14 15 16 17 18 19]\n"
     ]
    },
    {
     "data": {
      "text/plain": [
       "numpy.ndarray"
      ]
     },
     "execution_count": 1,
     "metadata": {},
     "output_type": "execute_result"
    }
   ],
   "source": [
    "# np.reshape(data, (row, column))\n",
    "import numpy as np\n",
    "mydata = np.arange(0, 20) # create a list of 20 numbers\n",
    "print(mydata)\n",
    "type(mydata)"
   ]
  },
  {
   "cell_type": "code",
   "execution_count": 2,
   "metadata": {},
   "outputs": [
    {
     "data": {
      "text/plain": [
       "array([[ 0,  1,  2,  3,  4],\n",
       "       [ 5,  6,  7,  8,  9],\n",
       "       [10, 11, 12, 13, 14],\n",
       "       [15, 16, 17, 18, 19]])"
      ]
     },
     "execution_count": 2,
     "metadata": {},
     "output_type": "execute_result"
    }
   ],
   "source": [
    "np.reshape(mydata, (4, 5))"
   ]
  },
  {
   "cell_type": "code",
   "execution_count": 3,
   "metadata": {},
   "outputs": [
    {
     "data": {
      "text/plain": [
       "array([[ 0,  1,  2,  3,  4],\n",
       "       [ 5,  6,  7,  8,  9],\n",
       "       [10, 11, 12, 13, 14],\n",
       "       [15, 16, 17, 18, 19]])"
      ]
     },
     "execution_count": 3,
     "metadata": {},
     "output_type": "execute_result"
    }
   ],
   "source": [
    "# applying order-flags 'F', 'C'\n",
    "np.reshape(mydata, (4, 5), order='C')"
   ]
  },
  {
   "cell_type": "code",
   "execution_count": 4,
   "metadata": {},
   "outputs": [
    {
     "data": {
      "text/plain": [
       "array([[ 0,  4,  8, 12, 16],\n",
       "       [ 1,  5,  9, 13, 17],\n",
       "       [ 2,  6, 10, 14, 18],\n",
       "       [ 3,  7, 11, 15, 19]])"
      ]
     },
     "execution_count": 4,
     "metadata": {},
     "output_type": "execute_result"
    }
   ],
   "source": [
    "np.reshape(mydata, (4, 5), order='F')"
   ]
  },
  {
   "cell_type": "code",
   "execution_count": 5,
   "metadata": {},
   "outputs": [],
   "source": [
    "# applying order-flags 'F', 'C'\n",
    "mat_1 = np.reshape(mydata, (4, 5), order='C')\n",
    "mat_2 = np.reshape(mydata, (4, 5), order='F')"
   ]
  },
  {
   "cell_type": "code",
   "execution_count": 8,
   "metadata": {},
   "outputs": [
    {
     "name": "stdout",
     "output_type": "stream",
     "text": [
      "14\n",
      "18\n"
     ]
    }
   ],
   "source": [
    "print(mat_1[2, 4])\n",
    "print(mat_2[2, 4])"
   ]
  },
  {
   "cell_type": "markdown",
   "metadata": {},
   "source": []
  },
  {
   "cell_type": "code",
   "execution_count": 10,
   "metadata": {},
   "outputs": [
    {
     "name": "stdout",
     "output_type": "stream",
     "text": [
      "[0, 1, 2, 3, 4, 5, 6, 7, 8, 9, 10, 11, 12, 13, 14, 15, 16, 17, 18, 19]\n"
     ]
    },
    {
     "data": {
      "text/plain": [
       "list"
      ]
     },
     "execution_count": 10,
     "metadata": {},
     "output_type": "execute_result"
    }
   ],
   "source": [
    "# creating matrices from a list (no 'numpy.ndarray' TYPE)\n",
    "import numpy as np\n",
    "mydata_2 = list(range(20)) # create a list of 20 numbers\n",
    "print(mydata_2)\n",
    "type(mydata_2)    # numpy.ndarray"
   ]
  },
  {
   "cell_type": "code",
   "execution_count": 11,
   "metadata": {},
   "outputs": [
    {
     "data": {
      "text/plain": [
       "array([[ 0,  1,  2,  3,  4],\n",
       "       [ 5,  6,  7,  8,  9],\n",
       "       [10, 11, 12, 13, 14],\n",
       "       [15, 16, 17, 18, 19]])"
      ]
     },
     "execution_count": 11,
     "metadata": {},
     "output_type": "execute_result"
    }
   ],
   "source": [
    "np.reshape(mydata_2, (4, 5))"
   ]
  },
  {
   "cell_type": "code",
   "execution_count": 12,
   "metadata": {},
   "outputs": [
    {
     "name": "stdout",
     "output_type": "stream",
     "text": [
      "14\n",
      "18\n"
     ]
    }
   ],
   "source": [
    "# applying order-flags 'F', 'C'\n",
    "mat_1 = np.reshape(mydata_2, (4, 5), order='C')\n",
    "mat_2 = np.reshape(mydata_2, (4, 5), order='F')\n",
    "\n",
    "# getting individual element\n",
    "print(mat_1[2, 4])  # 14\n",
    "print(mat_2[2, 4])  # 18"
   ]
  },
  {
   "cell_type": "code",
   "execution_count": 11,
   "metadata": {},
   "outputs": [
    {
     "data": {
      "text/plain": [
       "array([['I', 'am', 'happy'],\n",
       "       ['What', 'a', 'day'],\n",
       "       ['1', '2', '3']], dtype='<U5')"
      ]
     },
     "execution_count": 11,
     "metadata": {},
     "output_type": "execute_result"
    }
   ],
   "source": [
    "# METHOD 2:  np.array()\n",
    "import numpy as np\n",
    "\n",
    "r1 = [\"I\", \"am\", \"happy\"] \n",
    "r2 = [\"What\", \"a\", \"day\"] \n",
    "r3 = [1, 2, 3]\n",
    "# r4 = [2.5, 3.7, 3.1415, 1.618]\n",
    "\n",
    "# create a \"list-of-list\"\n",
    "li_li = [r1, r2, r3]\n",
    "\n",
    "# np.array will combine this li_li into a matrix row-by-row\n",
    "    # there is also type-info in \"dtype\"\n",
    "    # also numerical data will change into \"string\" if strings are present\n",
    "    # we can have ony one type of data in an \"array\"\n",
    "np.array(li_li, dtype='<U5') \n",
    "\n"
   ]
  },
  {
   "cell_type": "code",
   "execution_count": 13,
   "metadata": {},
   "outputs": [
    {
     "data": {
      "text/plain": [
       "array([list(['I', 'am', 'happy']), list(['What', 'a', 'day']),\n",
       "       list([1, 2, 3]), list([2.5, 3.7, 3.1415, 1.618])], dtype=object)"
      ]
     },
     "execution_count": 13,
     "metadata": {},
     "output_type": "execute_result"
    }
   ],
   "source": [
    "# Example 2: using '<U5' dtype\n",
    "import numpy as np\n",
    "\n",
    "r1 = [\"I\", \"am\", \"happy\"] \n",
    "r2 = [\"What\", \"a\", \"day\"] \n",
    "r3 = [1, 2, 3]\n",
    "r4 = [2.5, 3.7, 3.1415, 1.618]\n",
    "\n",
    "\n",
    "li_li = [r1, r2, r3, r4]\n",
    "\n",
    "np.array(li_li, dtype=object)\n",
    "# array([['I', 'am', 'happy'],\n",
    "#        ['What', 'a', 'day'],\n",
    "#        ['1', '2', '3']], dtype='<U5') "
   ]
  },
  {
   "cell_type": "code",
   "execution_count": 14,
   "metadata": {},
   "outputs": [
    {
     "data": {
      "text/plain": [
       "array([['I', 'am', 'happy'],\n",
       "       ['What', 'a', 'day'],\n",
       "       ['1', '2', '3'],\n",
       "       ['2.5', '3.7', '3.141']], dtype='<U5')"
      ]
     },
     "execution_count": 14,
     "metadata": {},
     "output_type": "execute_result"
    }
   ],
   "source": [
    "import numpy as np\n",
    "\n",
    "r1 = [\"I\", \"am\", \"happy\"] \n",
    "r2 = [\"What\", \"a\", \"day\"] \n",
    "r3 = [1, 2, 3]\n",
    "r4 = [2.5, 3.7, 3.1415]\n",
    "\n",
    "\n",
    "li_li = [r1, r2, r3, r4]\n",
    "\n",
    "np.array(li_li, dtype='<U5')"
   ]
  }
 ],
 "metadata": {
  "kernelspec": {
   "display_name": "Python 3.10.3 64-bit",
   "language": "python",
   "name": "python3"
  },
  "language_info": {
   "codemirror_mode": {
    "name": "ipython",
    "version": 3
   },
   "file_extension": ".py",
   "mimetype": "text/x-python",
   "name": "python",
   "nbconvert_exporter": "python",
   "pygments_lexer": "ipython3",
   "version": "3.10.3"
  },
  "orig_nbformat": 4,
  "vscode": {
   "interpreter": {
    "hash": "b7534786ec8a9cff2926c7e81f9ca1d65065bc188d16e9c2279a84a4000586bc"
   }
  }
 },
 "nbformat": 4,
 "nbformat_minor": 2
}

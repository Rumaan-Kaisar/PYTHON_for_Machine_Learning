{
 "cells": [
  {
   "cell_type": "code",
   "execution_count": 1,
   "metadata": {},
   "outputs": [
    {
     "name": "stdout",
     "output_type": "stream",
     "text": [
      "Hello world!!\n"
     ]
    }
   ],
   "source": [
    "print(\"Hello world!!\")"
   ]
  },
  {
   "cell_type": "code",
   "execution_count": 1,
   "metadata": {},
   "outputs": [
    {
     "name": "stdout",
     "output_type": "stream",
     "text": [
      "re.compile('\\\\d{3} \\\\d{3}-\\\\d{4}')\n",
      "<class 're.Pattern'>\n"
     ]
    }
   ],
   "source": [
    "import re\n",
    "# patrn = re.compile('\\\\d{3}')     # '\\\\' is used if 'r' is not used\n",
    "patrn = re.compile(r'\\d{3} \\d{3}-\\d{4}')     # '\\\\' is used if 'r' is not used, for escape characters\n",
    "print(patrn)\n",
    "print(type(patrn))  # <class 're.Pattern'>"
   ]
  },
  {
   "cell_type": "code",
   "execution_count": 2,
   "metadata": {},
   "outputs": [
    {
     "name": "stdout",
     "output_type": "stream",
     "text": [
      "Help on Pattern in module re object:\n",
      "\n",
      "class Pattern(builtins.object)\n",
      " |  Compiled regular expression object.\n",
      " |  \n",
      " |  Methods defined here:\n",
      " |  \n",
      " |  __copy__(self, /)\n",
      " |  \n",
      " |  __deepcopy__(self, memo, /)\n",
      " |  \n",
      " |  __eq__(self, value, /)\n",
      " |      Return self==value.\n",
      " |  \n",
      " |  __ge__(self, value, /)\n",
      " |      Return self>=value.\n",
      " |  \n",
      " |  __gt__(self, value, /)\n",
      " |      Return self>value.\n",
      " |  \n",
      " |  __hash__(self, /)\n",
      " |      Return hash(self).\n",
      " |  \n",
      " |  __le__(self, value, /)\n",
      " |      Return self<=value.\n",
      " |  \n",
      " |  __lt__(self, value, /)\n",
      " |      Return self<value.\n",
      " |  \n",
      " |  __ne__(self, value, /)\n",
      " |      Return self!=value.\n",
      " |  \n",
      " |  __repr__(self, /)\n",
      " |      Return repr(self).\n",
      " |  \n",
      " |  findall(self, /, string, pos=0, endpos=9223372036854775807)\n",
      " |      Return a list of all non-overlapping matches of pattern in string.\n",
      " |  \n",
      " |  finditer(self, /, string, pos=0, endpos=9223372036854775807)\n",
      " |      Return an iterator over all non-overlapping matches for the RE pattern in string.\n",
      " |      \n",
      " |      For each match, the iterator returns a match object.\n",
      " |  \n",
      " |  fullmatch(self, /, string, pos=0, endpos=9223372036854775807)\n",
      " |      Matches against all of the string.\n",
      " |  \n",
      " |  match(self, /, string, pos=0, endpos=9223372036854775807)\n",
      " |      Matches zero or more characters at the beginning of the string.\n",
      " |  \n",
      " |  scanner(self, /, string, pos=0, endpos=9223372036854775807)\n",
      " |  \n",
      " |  search(self, /, string, pos=0, endpos=9223372036854775807)\n",
      " |      Scan through string looking for a match, and return a corresponding match object instance.\n",
      " |      \n",
      " |      Return None if no position in the string matches.\n",
      " |  \n",
      " |  split(self, /, string, maxsplit=0)\n",
      " |      Split string by the occurrences of pattern.\n",
      " |  \n",
      " |  sub(self, /, repl, string, count=0)\n",
      " |      Return the string obtained by replacing the leftmost non-overlapping occurrences of pattern in string by the replacement repl.\n",
      " |  \n",
      " |  subn(self, /, repl, string, count=0)\n",
      " |      Return the tuple (new_string, number_of_subs_made) found by replacing the leftmost non-overlapping occurrences of pattern with the replacement repl.\n",
      " |  \n",
      " |  ----------------------------------------------------------------------\n",
      " |  Class methods defined here:\n",
      " |  \n",
      " |  __class_getitem__(...) from builtins.type\n",
      " |      See PEP 585\n",
      " |  \n",
      " |  ----------------------------------------------------------------------\n",
      " |  Data descriptors defined here:\n",
      " |  \n",
      " |  flags\n",
      " |      The regex matching flags.\n",
      " |  \n",
      " |  groupindex\n",
      " |      A dictionary mapping group names to group numbers.\n",
      " |  \n",
      " |  groups\n",
      " |      The number of capturing groups in the pattern.\n",
      " |  \n",
      " |  pattern\n",
      " |      The pattern string from which the RE object was compiled.\n",
      "\n"
     ]
    }
   ],
   "source": [
    "help(patrn)"
   ]
  },
  {
   "cell_type": "code",
   "execution_count": 11,
   "metadata": {},
   "outputs": [
    {
     "name": "stdout",
     "output_type": "stream",
     "text": [
      "<re.Match object; span=(11, 23), match='415 555-4242'>\n",
      "415 555-4242\n"
     ]
    }
   ],
   "source": [
    "# search a string with our regex (using search() )\n",
    "result = patrn.search('Call me at 415 555-4242!')\n",
    "    # it gives us a \"match-object\"\n",
    "print(result)    \n",
    "print(result.group())"
   ]
  }
 ],
 "metadata": {
  "kernelspec": {
   "display_name": "Python 3.10.3 64-bit",
   "language": "python",
   "name": "python3"
  },
  "language_info": {
   "codemirror_mode": {
    "name": "ipython",
    "version": 3
   },
   "file_extension": ".py",
   "mimetype": "text/x-python",
   "name": "python",
   "nbconvert_exporter": "python",
   "pygments_lexer": "ipython3",
   "version": "3.10.3"
  },
  "orig_nbformat": 4,
  "vscode": {
   "interpreter": {
    "hash": "b7534786ec8a9cff2926c7e81f9ca1d65065bc188d16e9c2279a84a4000586bc"
   }
  }
 },
 "nbformat": 4,
 "nbformat_minor": 2
}

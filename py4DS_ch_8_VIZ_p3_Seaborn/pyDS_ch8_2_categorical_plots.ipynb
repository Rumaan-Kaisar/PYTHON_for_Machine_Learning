{
 "cells": [
  {
   "cell_type": "markdown",
   "metadata": {},
   "source": [
    "# ------------    categorical plots    ------------\n",
    "#### Seaborn provides several plot types for visualizing categorical data, including:\n",
    "    # factorplot\n",
    "    # boxplot\n",
    "    # violinplot\n",
    "    # stripplot\n",
    "    # swarmplot\n",
    "    # barplot\n",
    "    # countplot\n",
    "\n",
    "    # For categorical plots, we'll focus on visualizing the distributions of categorical columns \n",
    "    # such as 'sex,' 'smoker,' 'day,' or 'time' in relation to either numerical or other categorical columns."
   ]
  },
  {
   "cell_type": "code",
   "execution_count": 1,
   "metadata": {},
   "outputs": [],
   "source": [
    "# import libraries\n",
    "import seaborn as sns\n",
    "# shows figures in ipynb\n",
    "%matplotlib inline\n",
    "\n",
    "# To remove 'warnings' use 'filterwarnings'\n",
    "import warnings\n",
    "warnings.filterwarnings('ignore')"
   ]
  },
  {
   "cell_type": "code",
   "execution_count": null,
   "metadata": {},
   "outputs": [],
   "source": [
    "# lets load a builtin dataset of seaborn. tips: a dataset of restaurant patrons' tipping behavior\n",
    "tips = sns.load_dataset('tips')\n",
    "tips.head()"
   ]
  },
  {
   "cell_type": "markdown",
   "metadata": {},
   "source": [
    "___"
   ]
  },
  {
   "cell_type": "markdown",
   "metadata": {},
   "source": [
    "# ------------    barplot and countplot    ------------\n",
    "#### These similar plots help visualize aggregate data for a categorical feature:\n",
    "    # Barplot: Displays aggregated categorical data based on a function (default is the mean).\n",
    "    # Countplot: Shows the count of observations in each category.\n",
    "\n",
    "#### We can think of it as the visualization of a Pandas groupby action."
   ]
  },
  {
   "cell_type": "code",
   "execution_count": null,
   "metadata": {},
   "outputs": [],
   "source": [
    "\"\"\" \n",
    "Aggregate data:\n",
    "    Aggregate data refers to data that has been combined or summarized to represent a \"higher-level overview\".\n",
    "    Instead of looking at individual data points, it groups or combines them using specific functions like:\n",
    "        Sum\n",
    "        Mean\n",
    "        Count\n",
    "        Median\n",
    "        Standard deviation\n",
    "\"\"\""
   ]
  },
  {
   "cell_type": "markdown",
   "metadata": {},
   "source": [
    "## ----  barplot  ----"
   ]
  }
 ],
 "metadata": {
  "kernelspec": {
   "display_name": "Python 3.10.3 64-bit",
   "language": "python",
   "name": "python3"
  },
  "language_info": {
   "codemirror_mode": {
    "name": "ipython",
    "version": 3
   },
   "file_extension": ".py",
   "mimetype": "text/x-python",
   "name": "python",
   "nbconvert_exporter": "python",
   "pygments_lexer": "ipython3",
   "version": "3.10.3"
  },
  "orig_nbformat": 4,
  "vscode": {
   "interpreter": {
    "hash": "b7534786ec8a9cff2926c7e81f9ca1d65065bc188d16e9c2279a84a4000586bc"
   }
  }
 },
 "nbformat": 4,
 "nbformat_minor": 2
}

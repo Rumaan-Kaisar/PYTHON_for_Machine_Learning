{
 "cells": [
  {
   "cell_type": "markdown",
   "metadata": {},
   "source": [
    "# ------------    categorical plots    ------------\n",
    "#### Seaborn provides several plot types for visualizing categorical data, including:\n",
    "    # factorplot\n",
    "    # boxplot\n",
    "    # violinplot\n",
    "    # stripplot\n",
    "    # swarmplot\n",
    "    # barplot\n",
    "    # countplot"
   ]
  }
 ],
 "metadata": {
  "language_info": {
   "name": "python"
  },
  "orig_nbformat": 4
 },
 "nbformat": 4,
 "nbformat_minor": 2
}

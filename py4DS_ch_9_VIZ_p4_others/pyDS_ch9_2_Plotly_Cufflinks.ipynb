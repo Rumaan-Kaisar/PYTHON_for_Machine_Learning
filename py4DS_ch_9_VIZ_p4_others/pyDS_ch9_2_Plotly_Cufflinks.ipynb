{
 "cells": [
  {
   "cell_type": "markdown",
   "metadata": {},
   "source": [
    "# ------------    Plotly and cufflinks    ------------"
   ]
  },
  {
   "cell_type": "code",
   "execution_count": null,
   "metadata": {},
   "outputs": [],
   "source": [
    "# import libraries\n",
    "import numpy as np\n",
    "import pandas as pd\n",
    "import cufflinks as cf\n",
    "\n",
    "# shows figures in ipynb\n",
    "%matplotlib inline\n",
    "\n",
    "# To remove 'warnings' use 'filterwarnings'\n",
    "import warnings\n",
    "warnings.filterwarnings('ignore')"
   ]
  },
  {
   "cell_type": "code",
   "execution_count": null,
   "metadata": {},
   "outputs": [],
   "source": [
    "# check plotly version\n",
    "import plotly\n",
    "print(plotly.__version__)   # version > 1.9.4 required"
   ]
  },
  {
   "cell_type": "markdown",
   "metadata": {},
   "source": [
    "___"
   ]
  },
  {
   "cell_type": "markdown",
   "metadata": {},
   "source": [
    "## --------    Test Plotly    --------"
   ]
  },
  {
   "cell_type": "code",
   "execution_count": 1,
   "metadata": {},
   "outputs": [],
   "source": [
    "# test plotly: Makes an \"HTML\" file\n",
    "    # The HTML file will embed Plotly.js (so the HTML will be havier, > 4.5mb)\n",
    "    # However, we can use 'cdn' to imbed Plotly.js, makes the HTML much light-weight\n",
    "import plotly.express as px\n",
    "fig = px.bar(x=[\"a\", \"b\", \"c\"], y=[1, 3, 2])\n",
    "fig.write_html('first_figure.html', auto_open=True)"
   ]
  },
  {
   "cell_type": "code",
   "execution_count": null,
   "metadata": {},
   "outputs": [],
   "source": [
    "# plotly.offline, Standalone HTML:\n",
    "    # Offline mode will save an HTML file locally and open it inside your web browser.\n",
    "\n",
    "import plotly\n",
    "print(plotly.__version__) # version > 1.9.4 required\n",
    "\n",
    "from plotly.graph_objs import Scatter, Layout \n",
    "\n",
    "plotly.offline.plot({\n",
    "    \"data\": [\n",
    "        Scatter(x=[1, 2, 3, 4], y=[4, 1, 3, 7])\n",
    "    ],\n",
    "    \"layout\": Layout(\n",
    "        title=\"hello world\"\n",
    "    )\n",
    "})"
   ]
  },
  {
   "cell_type": "markdown",
   "metadata": {},
   "source": [
    "___"
   ]
  },
  {
   "cell_type": "markdown",
   "metadata": {},
   "source": [
    "## --------    Show pltly figures in jypyter nb    --------"
   ]
  },
  {
   "cell_type": "markdown",
   "metadata": {},
   "source": [
    "#### Use plotly in ipynb: render through Plotly.js but not saved to notebook (not recomended)\n",
    "    # ERR: Mime type rendering requires nbformat>=4.2.0 but it is not installed\n",
    "    # pip install --upgrade nbformat"
   ]
  },
  {
   "cell_type": "code",
   "execution_count": null,
   "metadata": {},
   "outputs": [],
   "source": [
    "import plotly.express as px\n",
    "fig = px.bar(x=[\"a\", \"b\", \"c\"], y=[1, 3, 2])\n",
    "fig.show()"
   ]
  },
  {
   "cell_type": "markdown",
   "metadata": {},
   "source": [
    "#### another way to see it in notebook (not recomended)"
   ]
  },
  {
   "cell_type": "code",
   "execution_count": null,
   "metadata": {},
   "outputs": [],
   "source": [
    "# use offline version\n",
    "from plotly.offline import download_plotlyjs, init_notebook_mode, plot, iplot\n",
    "# For Notebooks\n",
    "init_notebook_mode(connected=True)\n",
    "# For offline use\n",
    "cf.go_offline()"
   ]
  },
  {
   "cell_type": "code",
   "execution_count": null,
   "metadata": {},
   "outputs": [],
   "source": [
    "df = pd.DataFrame(np.random.randn(100,4),columns='A B C D'.split())\n",
    "df.head()"
   ]
  },
  {
   "cell_type": "code",
   "execution_count": null,
   "metadata": {},
   "outputs": [],
   "source": [
    "# show plotly in notebook\n",
    "df.iplot(kind='scatter',x='A',y='B',mode='markers',size=10)"
   ]
  },
  {
   "cell_type": "markdown",
   "metadata": {},
   "source": [
    "___"
   ]
  },
  {
   "cell_type": "markdown",
   "metadata": {},
   "source": [
    "## --------    use 'cdn' or 'plotly-2.35.2.min.js in working directory'    --------\n",
    "    # The HTML file's large size is primarily due to the embedded Plotly.js.\n",
    "    # To reduce the size, we can use 'cdn' to load Plotly.js externally.\n",
    "    # Alternatively, we can download \"Plotly.js\" to our working directory and reference it locally."
   ]
  },
  {
   "cell_type": "code",
   "execution_count": null,
   "metadata": {},
   "outputs": [],
   "source": [
    "# using 'cdn'\n",
    "import plotly.io as pio\n",
    "import plotly.express as px\n",
    "\n",
    "fig = px.bar(x=[\"a\", \"b\", \"c\"], y=[1, 3, 2])\n",
    "pio.write_html(fig, 'plot_cdn.html', include_plotlyjs='cdn')"
   ]
  },
  {
   "cell_type": "markdown",
   "metadata": {},
   "source": [
    "### Best way"
   ]
  },
  {
   "cell_type": "code",
   "execution_count": null,
   "metadata": {},
   "outputs": [],
   "source": [
    "# using local \"Plotly.js\"\n",
    "import plotly.io as pio\n",
    "import plotly.express as px\n",
    "\n",
    "fig = px.bar(x=[\"a\", \"b\", \"c\"], y=[1, 3, 2])\n",
    "pio.write_html(fig, 'plot_local_plotly_js.html', include_plotlyjs='.\\plotly-2.35.2.min.js')"
   ]
  }
 ],
 "metadata": {
  "kernelspec": {
   "display_name": "Python 3.10.3 64-bit",
   "language": "python",
   "name": "python3"
  },
  "language_info": {
   "codemirror_mode": {
    "name": "ipython",
    "version": 3
   },
   "file_extension": ".py",
   "mimetype": "text/x-python",
   "name": "python",
   "nbconvert_exporter": "python",
   "pygments_lexer": "ipython3",
   "version": "3.10.3"
  },
  "orig_nbformat": 4,
  "vscode": {
   "interpreter": {
    "hash": "b7534786ec8a9cff2926c7e81f9ca1d65065bc188d16e9c2279a84a4000586bc"
   }
  }
 },
 "nbformat": 4,
 "nbformat_minor": 2
}

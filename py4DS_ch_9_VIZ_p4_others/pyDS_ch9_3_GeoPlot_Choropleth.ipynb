{
 "cells": [
  {
   "cell_type": "markdown",
   "metadata": {},
   "source": [
    "# ----------------    Geographical Plotting    ----------------\n",
    "#### more: https://plotly.com/python/choropleth-maps/\n",
    "\n",
    "### Choropleth Maps:\n",
    "    # A Choropleth map uses colors to represent data across geographic regions. "
   ]
  },
  {
   "cell_type": "code",
   "execution_count": null,
   "metadata": {},
   "outputs": [],
   "source": [
    "\n",
    "# import libraries\n",
    "import numpy as np\n",
    "import pandas as pd\n",
    "import cufflinks as cf\n",
    "\n",
    "# shows figures in ipynb\n",
    "%matplotlib inline\n",
    "\n",
    "# To remove 'warnings' use 'filterwarnings'\n",
    "import warnings\n",
    "warnings.filterwarnings('ignore')\n",
    "\n",
    "# Enable offline mode for interactive plotting\n",
    "cf.go_offline()\n",
    "\n",
    "\n",
    "# using local \"Plotly.js\"\n",
    "import plotly.io as pio\n",
    "import plotly.plotly as ptly\n",
    "import plotly.express as px\n",
    "from plotly.offline import iplot"
   ]
  },
  {
   "cell_type": "code",
   "execution_count": 1,
   "metadata": {},
   "outputs": [],
   "source": [
    "# first we build our data-dictionary\n",
    "# We'll use the dict() method to create a dictionary.\n",
    "    # to cast a list to the dictionary\n",
    "\n",
    "data = dict(type = 'choropleth',\n",
    "            locations = ['AZ', 'CA', 'NY'],\n",
    "            loactionmode = 'USA-states',\n",
    "            colorscale = 'Portland',\n",
    "            text = ['text 1', 'text 2', 'text 3'],\n",
    "            z = [1.0, 2.0, 3.0],\n",
    "            colorbar = {'title':'colorbar title goes here'}\n",
    "        )\n",
    "\n",
    "# Define key elements:\n",
    "    # \"type\": Set as 'choropleth'\n",
    "    # \"locations\": List of state abbreviations (e.g., ['AZ', 'CA', 'NY']).\n",
    "    # \"locationmode\": Set to 'USA-states'. It'll let plotly know that we're doing this in US-level\n",
    "        # theres' also different location modes, more in \"documentation\"\n",
    "    # \"colorscale\": Choose a predefined color scheme (e.g., 'Portland') \n",
    "        # we can however use other colorscaleas such as green, grays\n",
    "    # \"text\": List of hover text values, i.e. each of the locations.\n",
    "    # \"z\": actual values shown in to the coloscale.\n",
    "    # \"colorbar\": Dictionary defining the \"color bar title\".\n",
    "\n",
    "# We use this kind of notation because it follows Plotly's documentation."
   ]
  },
  {
   "cell_type": "code",
   "execution_count": 2,
   "metadata": {},
   "outputs": [
    {
     "data": {
      "text/plain": [
       "{'type': 'choropleth',\n",
       " 'locations': ['AZ', 'CA', 'NY'],\n",
       " 'loactionmode': 'USA-states',\n",
       " 'colorscale': 'Portland',\n",
       " 'text': ['text 1', 'text 2', 'text 3'],\n",
       " 'z': [1.0, 2.0, 3.0],\n",
       " 'colorbar': {'title': 'colorbar title goes here'}}"
      ]
     },
     "execution_count": 2,
     "metadata": {},
     "output_type": "execute_result"
    }
   ],
   "source": [
    "data"
   ]
  }
 ],
 "metadata": {
  "kernelspec": {
   "display_name": "Python 3.10.3 64-bit",
   "language": "python",
   "name": "python3"
  },
  "language_info": {
   "codemirror_mode": {
    "name": "ipython",
    "version": 3
   },
   "file_extension": ".py",
   "mimetype": "text/x-python",
   "name": "python",
   "nbconvert_exporter": "python",
   "pygments_lexer": "ipython3",
   "version": "3.10.3"
  },
  "orig_nbformat": 4,
  "vscode": {
   "interpreter": {
    "hash": "b7534786ec8a9cff2926c7e81f9ca1d65065bc188d16e9c2279a84a4000586bc"
   }
  }
 },
 "nbformat": 4,
 "nbformat_minor": 2
}

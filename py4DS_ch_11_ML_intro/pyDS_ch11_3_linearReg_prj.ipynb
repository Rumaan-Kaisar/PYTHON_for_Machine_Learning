{
 "cells": [
  {
   "cell_type": "markdown",
   "id": "ca309d90",
   "metadata": {},
   "source": [
    "<h1 style=\"color:#007fff\">----&nbsp;&nbsp;&nbsp;&nbsp;<strong>Project: </strong>Ecommerce&nbsp;&nbsp;&nbsp;&nbsp;----</h1>  \n"
   ]
  },
  {
   "cell_type": "markdown",
   "id": "47ed25af",
   "metadata": {},
   "source": [
    "- **Exercise Instructions**\n",
    "\n",
    "   * Attempt the exercise on your own first  \n",
    "   * The dataset for this project is in the file `data_Ecommerce_Customers`.\n",
    "\n",
    "- **Project Background**\n",
    "\n",
    "   * You have contract work with a New York City–based e-commerce company.\n",
    "   * The company _**sells clothing online**_ and also offers _**in-store style**_ and _**clothing advice sessions**_.\n",
    "   * Customers can:\n",
    "\n",
    "     * Visit the store for a personal stylist session.\n",
    "     * Later place orders via the mobile app or website.\n",
    "   * The business goal: Decide whether to focus on improving the **mobile app experience** or the **website experience**.\n",
    "   * Your task: Use the dataset to help the company make this decision.\n",
    "\n",
    "- **Dataset Notes**\n",
    "\n",
    "   * The dataset is artificially generated.\n",
    "   * Includes _fake credit card numbers and email addresses_ (no real sensitive data).\n",
    "\n",
    "- **Project Steps**\n",
    "\n",
    "   * Import necessary libraries and load the dataset.\n",
    "   * Perform **exploratory data analysis (EDA)** using Seaborn to create visualizations and diagrams.\n",
    "   * Answer questions to better understand customer patterns.\n",
    "   * Split the data into **training** and **testing** sets.\n",
    "   * Train a **linear regression model**.\n",
    "   * Make predictions on the test data.\n",
    "   * Evaluate model performance using metrics.\n",
    "   * Analyze **residuals** to check model assumptions.\n",
    "   * Write a **conclusion** based on the findings.\n"
   ]
  }
 ],
 "metadata": {
  "language_info": {
   "name": "python"
  }
 },
 "nbformat": 4,
 "nbformat_minor": 5
}

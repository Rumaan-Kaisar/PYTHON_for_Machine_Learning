{
 "cells": [
  {
   "cell_type": "markdown",
   "metadata": {},
   "source": [
    "# ------------    distribution plots    ------------\n",
    "#### Let's go over some plots that help visualize the distribution of a dataset\n",
    "        #   distplot\n",
    "        #   jointplot\n",
    "        #   pairplot\n",
    "        #   rugplot\n",
    "        #   kdeplot"
   ]
  }
 ],
 "metadata": {
  "language_info": {
   "name": "python"
  },
  "orig_nbformat": 4
 },
 "nbformat": 4,
 "nbformat_minor": 2
}

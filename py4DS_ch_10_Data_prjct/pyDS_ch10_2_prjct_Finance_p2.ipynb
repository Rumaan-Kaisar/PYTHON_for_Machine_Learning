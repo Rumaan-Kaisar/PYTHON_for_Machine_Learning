{
 "cells": [
  {
   "cell_type": "markdown",
   "metadata": {},
   "source": [
    "# --------------------    Finance Data Project    --------------------\n",
    "    # This project is challenging as it introduces many new concepts. \n",
    "    # You may need to research on your own, but guidance will be provided.\n",
    "\n",
    "\n",
    "#### This project focuses on exploratory data analysis of \"stock prices\", \n",
    "    # specifically bank stocks, from the 2008 financial crisis to early 2016. \n",
    "    # The goal is to practice visualization and pandas skills, \n",
    "    # it is not meant to be a robust financial analysis or be taken as financial advice\n",
    "\n",
    "#### The 2008 financial crisis:\n",
    "    # The 2008 financial crisis was a major global economic downturn triggered by subprime mortgages, \n",
    "    # excessive risk-taking by financial institutions, and regulatory failures. \n",
    "    # It led to a stock market crash and an international banking crisis, "
   ]
  },
  {
   "cell_type": "code",
   "execution_count": 1,
   "metadata": {},
   "outputs": [],
   "source": [
    "# import libraries\n",
    "import numpy as np\n",
    "import pandas as pd\n",
    "\n",
    "from pandas_datareader import data, wb\n",
    "import datetime\n",
    "\n",
    "# We'll use following visualization libraries\n",
    "import matplotlib.pyplot as plt\n",
    "import seaborn as sns\n",
    "\n",
    "# shows figures in ipynb\n",
    "%matplotlib inline\n",
    "\n",
    "# To remove 'warnings' use 'filterwarnings'\n",
    "import warnings\n",
    "warnings.filterwarnings('ignore')"
   ]
  },
  {
   "cell_type": "markdown",
   "metadata": {},
   "source": [
    "### --------  loading provided \"pickle file\"   --------\n",
    "    # loading provided \"pickle file\" of the \"stock data from Jan 1st 2006 to Jan 1st 2016\""
   ]
  },
  {
   "cell_type": "code",
   "execution_count": 3,
   "metadata": {},
   "outputs": [],
   "source": [
    "# provided data is a \"pickle\" file so read_csv wont work\n",
    "# Read in the csv file and as a dataframe\n",
    "# df = pd.read_csv(\"./data_all_banks\")\n",
    "df = pd.read_pickle(\"data_all_banks\")  # Load a pickle file into a DataFrame"
   ]
  },
  {
   "cell_type": "code",
   "execution_count": null,
   "metadata": {},
   "outputs": [],
   "source": [
    "# data info\n",
    "df.info()"
   ]
  },
  {
   "cell_type": "code",
   "execution_count": null,
   "metadata": {},
   "outputs": [],
   "source": [
    "# inspect first 5 row\n",
    "df.head(5)"
   ]
  },
  {
   "cell_type": "code",
   "execution_count": null,
   "metadata": {},
   "outputs": [],
   "source": [
    "df['BAC']"
   ]
  },
  {
   "cell_type": "code",
   "execution_count": null,
   "metadata": {},
   "outputs": [],
   "source": [
    "df['C']"
   ]
  },
  {
   "cell_type": "markdown",
   "metadata": {},
   "source": [
    "___"
   ]
  },
  {
   "cell_type": "markdown",
   "metadata": {},
   "source": [
    "## --------  about the Data  --------"
   ]
  },
  {
   "cell_type": "code",
   "execution_count": null,
   "metadata": {},
   "outputs": [],
   "source": [
    "# We need to get data using \"pandas datareader\". We will get stock information for the following banks:\n",
    "    # Bank of America\n",
    "    # CitiGroup\n",
    "    # Goldman Sachs\n",
    "    # JPMorgan Chase\n",
    "    # Morgan Stanley\n",
    "    # Wells Fargo\n",
    "\n",
    "\n",
    "# Get the stock data from Jan 1st 2006 to Jan 1st 2016 for each of these banks. \n",
    "    # Set each bank to be a separate dataframe, with the variable name for that bank being its ticker symbol. \n",
    "\n",
    "# This will involve a few steps:\n",
    "    # 1. Use datetime() to set start and end datetime objects.\n",
    "    # 2. Figure out the ticker symbol for each bank.\n",
    "    # 2. Figure out how to use datareader to grab info on the stock.\n",
    "    #    -  Use Google Finance (or Yahoo Finance)\n",
    "\n",
    "# Use this documentation: https://pandas-datareader.readthedocs.io/en/latest/remote_data.html\n",
    "\n",
    "\n",
    "# Use Google Finance (or Yahoo Finance) as a source, for example:\n",
    "    # Bank of America\n",
    "    # BAC = data.DataReader(\"BAC\", 'google', start, end)\n",
    "\n",
    "\n",
    "# NOTE: Check the link above for the latest API (or search online for latest API), as 'google' may not always work.\n",
    "        # Google Finance no longer provides a public API or support in pandas-datareader. \n",
    "        # Use Yahoo Finance, Alpha Vantage, or Market Data API for real-time and historical stock data.\n"
   ]
  },
  {
   "cell_type": "markdown",
   "metadata": {},
   "source": [
    "### --------  ONLINE: getting data from \"yahoo finance\"  --------\n",
    "    # Note: We're not using this. Instead, we're using \"yfinance\" in a more straightforward way.\n"
   ]
  },
  {
   "cell_type": "code",
   "execution_count": null,
   "metadata": {},
   "outputs": [],
   "source": [
    "# Note: We're not using this. Instead, we're using \"yfinance\" in a more straightforward way.\n",
    "import datetime\n",
    "import pandas as pd\n",
    "import pandas_datareader.data as data\n",
    "\n",
    "# Define start and end dates\n",
    "start = datetime.datetime(2006, 1, 1)\n",
    "end = datetime.datetime(2016, 1, 1)\n",
    "\n",
    "# Define bank tickers\n",
    "# Create a list of the \"ticker symbols\" (as strings) in alphabetical order. \n",
    "    # Call this list: \"tickers\"\n",
    "tickers = ['BAC', 'CTG', 'GS', 'JPM', 'MS', 'WFC']\n",
    "\n",
    "# Fetch data for each bank using \"Yahoo Finance\" since \n",
    "BAC = data.DataReader(\"BAC\", 'yahoo', start, end)       # Bank of America\n",
    "CTG = data.DataReader(\"CTG\", 'yahoo', start, end)       # CitiGroup\n",
    "GS = data.DataReader(\"GS\", 'yahoo', start, end)     # Goldman Sachs\n",
    "JPM = data.DataReader(\"JPM\", 'yahoo', start, end)       # JPMorgan Chase\n",
    "MS = data.DataReader(\"MS\", 'yahoo', start, end)     # Morgan Stanley\n",
    "WFC = data.DataReader(\"WFC\", 'yahoo', start, end)       # Wells Fargo\n",
    "\n",
    "# Fetch data for all banks in a single call\n",
    "df = data.DataReader(tickers, 'yahoo', start, end)\n",
    "\n",
    "# Fetcing could also do this for a \"Panel Object\"\n",
    "# df = data.DataReader(['BAC', 'C', 'GS', 'JPM', 'MS', 'WFC'], 'yahoo', start, end)\n",
    "\n",
    "# ----------------    Concatenate dataframes    ----------------\n",
    "# Concatenate dataframes into a single dataframe:\n",
    "# Use \"pd.concat\" to concatenate the bank dataframes together to a single dataframe called bank_stocks\n",
    "    # Set the keys argument equal to the \"tickers\" list. \n",
    "    # Also pay attention to what axis you concatenate on.\n",
    "bank_stocks = pd.concat([BAC, CTG, GS, JPM, MS, WFC], axis=1, keys=tickers)\n",
    "\n",
    "# Set column name levels\n",
    "bank_stocks.columns.names = ['Bank Ticker', 'Stock Info']\n",
    "\n",
    "# Display the head of the dataframe\n",
    "print(bank_stocks.head())\n",
    "\n",
    "# Save as a pickle file for efficient storage\n",
    "import pickle\n",
    "with open(\"bank_stocks_yahoo.pkl\", 'wb') as f:\n",
    "    pickle.dump(bank_stocks, f)"
   ]
  },
  {
   "cell_type": "markdown",
   "metadata": {},
   "source": [
    "## --------  ALTERNATIVE(online): getting data from \"yfinance\"  --------"
   ]
  },
  {
   "cell_type": "code",
   "execution_count": 17,
   "metadata": {},
   "outputs": [
    {
     "name": "stderr",
     "output_type": "stream",
     "text": [
      "[*********************100%***********************]  1 of 1 completed"
     ]
    },
    {
     "name": "stdout",
     "output_type": "stream",
     "text": [
      "Price            Close        High         Low        Open     Volume\n",
      "Ticker            AAPL        AAPL        AAPL        AAPL       AAPL\n",
      "Date                                                                 \n",
      "2023-01-03  123.632530  129.395518  122.742873  128.782649  112117500\n",
      "2023-01-04  124.907692  127.181260  123.642405  125.431599   89113600\n",
      "2023-01-05  123.583099  126.301493  123.326093  125.668849   80962700\n",
      "2023-01-06  128.130219  128.792516  123.454587  124.561717   87754700\n",
      "2023-01-09  128.654144  131.876686  128.397138  128.970474   70790800\n"
     ]
    },
    {
     "name": "stderr",
     "output_type": "stream",
     "text": [
      "\n"
     ]
    }
   ],
   "source": [
    "\n",
    "# Install yfinance from PYPI using pip\n",
    "    # pip install yfinance\n",
    "    # https://yfinance-python.org/\n",
    "    # https://github.com/ranaroussi/yfinance\n",
    "\n",
    "# check first: Use \"yfinance\" Directly Instead of \"pandas_datareader\"\n",
    "    # This method bypasses \"pandas_datareader\" and directly uses \"yfinance\", which is more reliable.\n",
    "    # If this works, it means yfinance is functioning properly.\n",
    "import yfinance as yf\n",
    "import datetime\n",
    "\n",
    "# Define start and end dates\n",
    "start = datetime.datetime(2023, 1, 1)\n",
    "end = datetime.datetime(2024, 1, 1)\n",
    "\n",
    "# Fetch stock data directly using yfinance\n",
    "df = yf.download(\"AAPL\", start=start, end=end)\n",
    "\n",
    "# Display the first few rows\n",
    "print(df.head())\n",
    "# ------------------------------------------------"
   ]
  },
  {
   "cell_type": "markdown",
   "metadata": {},
   "source": [
    "### ----------------    now we get our DataSet    ----------------"
   ]
  },
  {
   "cell_type": "code",
   "execution_count": 20,
   "metadata": {},
   "outputs": [
    {
     "name": "stderr",
     "output_type": "stream",
     "text": [
      "[*********************100%***********************]  1 of 1 completed\n",
      "[*********************100%***********************]  1 of 1 completed\n",
      "[*********************100%***********************]  1 of 1 completed\n",
      "[*********************100%***********************]  1 of 1 completed\n",
      "[*********************100%***********************]  1 of 1 completed\n",
      "[*********************100%***********************]  1 of 1 completed\n"
     ]
    },
    {
     "data": {
      "text/html": [
       "<div>\n",
       "<style scoped>\n",
       "    .dataframe tbody tr th:only-of-type {\n",
       "        vertical-align: middle;\n",
       "    }\n",
       "\n",
       "    .dataframe tbody tr th {\n",
       "        vertical-align: top;\n",
       "    }\n",
       "\n",
       "    .dataframe thead tr th {\n",
       "        text-align: left;\n",
       "    }\n",
       "\n",
       "    .dataframe thead tr:last-of-type th {\n",
       "        text-align: right;\n",
       "    }\n",
       "</style>\n",
       "<table border=\"1\" class=\"dataframe\">\n",
       "  <thead>\n",
       "    <tr>\n",
       "      <th></th>\n",
       "      <th colspan=\"5\" halign=\"left\">BAC</th>\n",
       "      <th colspan=\"5\" halign=\"left\">C</th>\n",
       "      <th>...</th>\n",
       "      <th colspan=\"5\" halign=\"left\">MS</th>\n",
       "      <th colspan=\"5\" halign=\"left\">WFC</th>\n",
       "    </tr>\n",
       "    <tr>\n",
       "      <th>Price</th>\n",
       "      <th>Close</th>\n",
       "      <th>High</th>\n",
       "      <th>Low</th>\n",
       "      <th>Open</th>\n",
       "      <th>Volume</th>\n",
       "      <th>Close</th>\n",
       "      <th>High</th>\n",
       "      <th>Low</th>\n",
       "      <th>Open</th>\n",
       "      <th>Volume</th>\n",
       "      <th>...</th>\n",
       "      <th>Close</th>\n",
       "      <th>High</th>\n",
       "      <th>Low</th>\n",
       "      <th>Open</th>\n",
       "      <th>Volume</th>\n",
       "      <th>Close</th>\n",
       "      <th>High</th>\n",
       "      <th>Low</th>\n",
       "      <th>Open</th>\n",
       "      <th>Volume</th>\n",
       "    </tr>\n",
       "    <tr>\n",
       "      <th>Ticker</th>\n",
       "      <th>BAC</th>\n",
       "      <th>BAC</th>\n",
       "      <th>BAC</th>\n",
       "      <th>BAC</th>\n",
       "      <th>BAC</th>\n",
       "      <th>C</th>\n",
       "      <th>C</th>\n",
       "      <th>C</th>\n",
       "      <th>C</th>\n",
       "      <th>C</th>\n",
       "      <th>...</th>\n",
       "      <th>MS</th>\n",
       "      <th>MS</th>\n",
       "      <th>MS</th>\n",
       "      <th>MS</th>\n",
       "      <th>MS</th>\n",
       "      <th>WFC</th>\n",
       "      <th>WFC</th>\n",
       "      <th>WFC</th>\n",
       "      <th>WFC</th>\n",
       "      <th>WFC</th>\n",
       "    </tr>\n",
       "    <tr>\n",
       "      <th>Date</th>\n",
       "      <th></th>\n",
       "      <th></th>\n",
       "      <th></th>\n",
       "      <th></th>\n",
       "      <th></th>\n",
       "      <th></th>\n",
       "      <th></th>\n",
       "      <th></th>\n",
       "      <th></th>\n",
       "      <th></th>\n",
       "      <th></th>\n",
       "      <th></th>\n",
       "      <th></th>\n",
       "      <th></th>\n",
       "      <th></th>\n",
       "      <th></th>\n",
       "      <th></th>\n",
       "      <th></th>\n",
       "      <th></th>\n",
       "      <th></th>\n",
       "      <th></th>\n",
       "    </tr>\n",
       "  </thead>\n",
       "  <tbody>\n",
       "    <tr>\n",
       "      <th>2006-01-03</th>\n",
       "      <td>31.173681</td>\n",
       "      <td>31.239895</td>\n",
       "      <td>30.557888</td>\n",
       "      <td>31.067736</td>\n",
       "      <td>16296700</td>\n",
       "      <td>324.013123</td>\n",
       "      <td>324.604743</td>\n",
       "      <td>316.256273</td>\n",
       "      <td>322.106780</td>\n",
       "      <td>1537600</td>\n",
       "      <td>...</td>\n",
       "      <td>32.190899</td>\n",
       "      <td>32.290271</td>\n",
       "      <td>31.324157</td>\n",
       "      <td>31.561543</td>\n",
       "      <td>5377000</td>\n",
       "      <td>18.778112</td>\n",
       "      <td>18.822262</td>\n",
       "      <td>18.363110</td>\n",
       "      <td>18.601516</td>\n",
       "      <td>11016400</td>\n",
       "    </tr>\n",
       "    <tr>\n",
       "      <th>2006-01-04</th>\n",
       "      <td>30.842604</td>\n",
       "      <td>31.279618</td>\n",
       "      <td>30.756524</td>\n",
       "      <td>31.120702</td>\n",
       "      <td>17757900</td>\n",
       "      <td>318.031219</td>\n",
       "      <td>322.764226</td>\n",
       "      <td>317.834019</td>\n",
       "      <td>321.186564</td>\n",
       "      <td>1870960</td>\n",
       "      <td>...</td>\n",
       "      <td>32.212990</td>\n",
       "      <td>32.726410</td>\n",
       "      <td>32.212990</td>\n",
       "      <td>32.406214</td>\n",
       "      <td>7977800</td>\n",
       "      <td>18.560308</td>\n",
       "      <td>18.731018</td>\n",
       "      <td>18.463180</td>\n",
       "      <td>18.719245</td>\n",
       "      <td>10870000</td>\n",
       "    </tr>\n",
       "    <tr>\n",
       "      <th>2006-01-05</th>\n",
       "      <td>30.882324</td>\n",
       "      <td>31.008133</td>\n",
       "      <td>30.670439</td>\n",
       "      <td>30.842597</td>\n",
       "      <td>14970700</td>\n",
       "      <td>319.608795</td>\n",
       "      <td>320.660556</td>\n",
       "      <td>318.162594</td>\n",
       "      <td>318.425534</td>\n",
       "      <td>1143160</td>\n",
       "      <td>...</td>\n",
       "      <td>32.301331</td>\n",
       "      <td>32.345497</td>\n",
       "      <td>32.030820</td>\n",
       "      <td>32.323414</td>\n",
       "      <td>5778000</td>\n",
       "      <td>18.539709</td>\n",
       "      <td>18.575028</td>\n",
       "      <td>18.430807</td>\n",
       "      <td>18.542652</td>\n",
       "      <td>10158000</td>\n",
       "    </tr>\n",
       "    <tr>\n",
       "      <th>2006-01-06</th>\n",
       "      <td>30.835981</td>\n",
       "      <td>31.061110</td>\n",
       "      <td>30.690309</td>\n",
       "      <td>30.988274</td>\n",
       "      <td>12599800</td>\n",
       "      <td>319.608795</td>\n",
       "      <td>321.449397</td>\n",
       "      <td>316.847872</td>\n",
       "      <td>321.317917</td>\n",
       "      <td>1370210</td>\n",
       "      <td>...</td>\n",
       "      <td>32.334457</td>\n",
       "      <td>32.489035</td>\n",
       "      <td>32.047383</td>\n",
       "      <td>32.444871</td>\n",
       "      <td>6889800</td>\n",
       "      <td>18.648602</td>\n",
       "      <td>18.704523</td>\n",
       "      <td>18.474948</td>\n",
       "      <td>18.589736</td>\n",
       "      <td>8403800</td>\n",
       "    </tr>\n",
       "    <tr>\n",
       "      <th>2006-01-09</th>\n",
       "      <td>30.855854</td>\n",
       "      <td>31.100849</td>\n",
       "      <td>30.696941</td>\n",
       "      <td>30.935313</td>\n",
       "      <td>15619400</td>\n",
       "      <td>318.096985</td>\n",
       "      <td>320.397748</td>\n",
       "      <td>317.505364</td>\n",
       "      <td>319.477447</td>\n",
       "      <td>1680740</td>\n",
       "      <td>...</td>\n",
       "      <td>32.676735</td>\n",
       "      <td>32.731943</td>\n",
       "      <td>32.362058</td>\n",
       "      <td>32.367580</td>\n",
       "      <td>4144500</td>\n",
       "      <td>18.645660</td>\n",
       "      <td>18.733960</td>\n",
       "      <td>18.575022</td>\n",
       "      <td>18.645660</td>\n",
       "      <td>5619600</td>\n",
       "    </tr>\n",
       "  </tbody>\n",
       "</table>\n",
       "<p>5 rows × 30 columns</p>\n",
       "</div>"
      ],
      "text/plain": [
       "                  BAC                                                      C  \\\n",
       "Price           Close       High        Low       Open    Volume       Close   \n",
       "Ticker            BAC        BAC        BAC        BAC       BAC           C   \n",
       "Date                                                                           \n",
       "2006-01-03  31.173681  31.239895  30.557888  31.067736  16296700  324.013123   \n",
       "2006-01-04  30.842604  31.279618  30.756524  31.120702  17757900  318.031219   \n",
       "2006-01-05  30.882324  31.008133  30.670439  30.842597  14970700  319.608795   \n",
       "2006-01-06  30.835981  31.061110  30.690309  30.988274  12599800  319.608795   \n",
       "2006-01-09  30.855854  31.100849  30.696941  30.935313  15619400  318.096985   \n",
       "\n",
       "                                                         ...         MS  \\\n",
       "Price             High         Low        Open   Volume  ...      Close   \n",
       "Ticker               C           C           C        C  ...         MS   \n",
       "Date                                                     ...              \n",
       "2006-01-03  324.604743  316.256273  322.106780  1537600  ...  32.190899   \n",
       "2006-01-04  322.764226  317.834019  321.186564  1870960  ...  32.212990   \n",
       "2006-01-05  320.660556  318.162594  318.425534  1143160  ...  32.301331   \n",
       "2006-01-06  321.449397  316.847872  321.317917  1370210  ...  32.334457   \n",
       "2006-01-09  320.397748  317.505364  319.477447  1680740  ...  32.676735   \n",
       "\n",
       "                                                            WFC             \\\n",
       "Price            High        Low       Open   Volume      Close       High   \n",
       "Ticker             MS         MS         MS       MS        WFC        WFC   \n",
       "Date                                                                         \n",
       "2006-01-03  32.290271  31.324157  31.561543  5377000  18.778112  18.822262   \n",
       "2006-01-04  32.726410  32.212990  32.406214  7977800  18.560308  18.731018   \n",
       "2006-01-05  32.345497  32.030820  32.323414  5778000  18.539709  18.575028   \n",
       "2006-01-06  32.489035  32.047383  32.444871  6889800  18.648602  18.704523   \n",
       "2006-01-09  32.731943  32.362058  32.367580  4144500  18.645660  18.733960   \n",
       "\n",
       "                                            \n",
       "Price             Low       Open    Volume  \n",
       "Ticker            WFC        WFC       WFC  \n",
       "Date                                        \n",
       "2006-01-03  18.363110  18.601516  11016400  \n",
       "2006-01-04  18.463180  18.719245  10870000  \n",
       "2006-01-05  18.430807  18.542652  10158000  \n",
       "2006-01-06  18.474948  18.589736   8403800  \n",
       "2006-01-09  18.575022  18.645660   5619600  \n",
       "\n",
       "[5 rows x 30 columns]"
      ]
     },
     "execution_count": 20,
     "metadata": {},
     "output_type": "execute_result"
    }
   ],
   "source": [
    "# ----------------    now we get our DataSet    ----------------\n",
    "import datetime\n",
    "import pandas as pd\n",
    "import yfinance as yf\n",
    "\n",
    "# Define start and end dates\n",
    "start = \"2006-01-01\"\n",
    "end = \"2016-01-01\"\n",
    "\n",
    "# Define bank tickers\n",
    "tickers = ['BAC', 'C', 'GS', 'JPM', 'MS', 'WFC']  # Fixed 'CTG' -> 'C' for CitiGroup\n",
    "\n",
    "# Fetch data for all banks using yfinance\n",
    "bank_data = {ticker: yf.download(ticker, start=start, end=end) for ticker in tickers}\n",
    "\n",
    "# Concatenate dataframes into a single dataframe with MultiIndex\n",
    "bank_stocks = pd.concat(bank_data, axis=1, keys=tickers)\n",
    "\n",
    "# Display the first few rows\n",
    "bank_stocks.head()"
   ]
  },
  {
   "cell_type": "code",
   "execution_count": 21,
   "metadata": {},
   "outputs": [
    {
     "name": "stdout",
     "output_type": "stream",
     "text": [
      "3\n"
     ]
    },
    {
     "data": {
      "text/html": [
       "<div>\n",
       "<style scoped>\n",
       "    .dataframe tbody tr th:only-of-type {\n",
       "        vertical-align: middle;\n",
       "    }\n",
       "\n",
       "    .dataframe tbody tr th {\n",
       "        vertical-align: top;\n",
       "    }\n",
       "\n",
       "    .dataframe thead tr th {\n",
       "        text-align: left;\n",
       "    }\n",
       "\n",
       "    .dataframe thead tr:last-of-type th {\n",
       "        text-align: right;\n",
       "    }\n",
       "</style>\n",
       "<table border=\"1\" class=\"dataframe\">\n",
       "  <thead>\n",
       "    <tr>\n",
       "      <th></th>\n",
       "      <th colspan=\"5\" halign=\"left\">BAC</th>\n",
       "      <th colspan=\"5\" halign=\"left\">C</th>\n",
       "      <th>...</th>\n",
       "      <th colspan=\"5\" halign=\"left\">MS</th>\n",
       "      <th colspan=\"5\" halign=\"left\">WFC</th>\n",
       "    </tr>\n",
       "    <tr>\n",
       "      <th>Price</th>\n",
       "      <th>Close</th>\n",
       "      <th>High</th>\n",
       "      <th>Low</th>\n",
       "      <th>Open</th>\n",
       "      <th>Volume</th>\n",
       "      <th>Close</th>\n",
       "      <th>High</th>\n",
       "      <th>Low</th>\n",
       "      <th>Open</th>\n",
       "      <th>Volume</th>\n",
       "      <th>...</th>\n",
       "      <th>Close</th>\n",
       "      <th>High</th>\n",
       "      <th>Low</th>\n",
       "      <th>Open</th>\n",
       "      <th>Volume</th>\n",
       "      <th>Close</th>\n",
       "      <th>High</th>\n",
       "      <th>Low</th>\n",
       "      <th>Open</th>\n",
       "      <th>Volume</th>\n",
       "    </tr>\n",
       "    <tr>\n",
       "      <th>Date</th>\n",
       "      <th></th>\n",
       "      <th></th>\n",
       "      <th></th>\n",
       "      <th></th>\n",
       "      <th></th>\n",
       "      <th></th>\n",
       "      <th></th>\n",
       "      <th></th>\n",
       "      <th></th>\n",
       "      <th></th>\n",
       "      <th></th>\n",
       "      <th></th>\n",
       "      <th></th>\n",
       "      <th></th>\n",
       "      <th></th>\n",
       "      <th></th>\n",
       "      <th></th>\n",
       "      <th></th>\n",
       "      <th></th>\n",
       "      <th></th>\n",
       "      <th></th>\n",
       "    </tr>\n",
       "  </thead>\n",
       "  <tbody>\n",
       "    <tr>\n",
       "      <th>2006-01-03</th>\n",
       "      <td>31.173681</td>\n",
       "      <td>31.239895</td>\n",
       "      <td>30.557888</td>\n",
       "      <td>31.067736</td>\n",
       "      <td>16296700</td>\n",
       "      <td>324.013123</td>\n",
       "      <td>324.604743</td>\n",
       "      <td>316.256273</td>\n",
       "      <td>322.106780</td>\n",
       "      <td>1537600</td>\n",
       "      <td>...</td>\n",
       "      <td>32.190899</td>\n",
       "      <td>32.290271</td>\n",
       "      <td>31.324157</td>\n",
       "      <td>31.561543</td>\n",
       "      <td>5377000</td>\n",
       "      <td>18.778112</td>\n",
       "      <td>18.822262</td>\n",
       "      <td>18.363110</td>\n",
       "      <td>18.601516</td>\n",
       "      <td>11016400</td>\n",
       "    </tr>\n",
       "    <tr>\n",
       "      <th>2006-01-04</th>\n",
       "      <td>30.842604</td>\n",
       "      <td>31.279618</td>\n",
       "      <td>30.756524</td>\n",
       "      <td>31.120702</td>\n",
       "      <td>17757900</td>\n",
       "      <td>318.031219</td>\n",
       "      <td>322.764226</td>\n",
       "      <td>317.834019</td>\n",
       "      <td>321.186564</td>\n",
       "      <td>1870960</td>\n",
       "      <td>...</td>\n",
       "      <td>32.212990</td>\n",
       "      <td>32.726410</td>\n",
       "      <td>32.212990</td>\n",
       "      <td>32.406214</td>\n",
       "      <td>7977800</td>\n",
       "      <td>18.560308</td>\n",
       "      <td>18.731018</td>\n",
       "      <td>18.463180</td>\n",
       "      <td>18.719245</td>\n",
       "      <td>10870000</td>\n",
       "    </tr>\n",
       "    <tr>\n",
       "      <th>2006-01-05</th>\n",
       "      <td>30.882324</td>\n",
       "      <td>31.008133</td>\n",
       "      <td>30.670439</td>\n",
       "      <td>30.842597</td>\n",
       "      <td>14970700</td>\n",
       "      <td>319.608795</td>\n",
       "      <td>320.660556</td>\n",
       "      <td>318.162594</td>\n",
       "      <td>318.425534</td>\n",
       "      <td>1143160</td>\n",
       "      <td>...</td>\n",
       "      <td>32.301331</td>\n",
       "      <td>32.345497</td>\n",
       "      <td>32.030820</td>\n",
       "      <td>32.323414</td>\n",
       "      <td>5778000</td>\n",
       "      <td>18.539709</td>\n",
       "      <td>18.575028</td>\n",
       "      <td>18.430807</td>\n",
       "      <td>18.542652</td>\n",
       "      <td>10158000</td>\n",
       "    </tr>\n",
       "    <tr>\n",
       "      <th>2006-01-06</th>\n",
       "      <td>30.835981</td>\n",
       "      <td>31.061110</td>\n",
       "      <td>30.690309</td>\n",
       "      <td>30.988274</td>\n",
       "      <td>12599800</td>\n",
       "      <td>319.608795</td>\n",
       "      <td>321.449397</td>\n",
       "      <td>316.847872</td>\n",
       "      <td>321.317917</td>\n",
       "      <td>1370210</td>\n",
       "      <td>...</td>\n",
       "      <td>32.334457</td>\n",
       "      <td>32.489035</td>\n",
       "      <td>32.047383</td>\n",
       "      <td>32.444871</td>\n",
       "      <td>6889800</td>\n",
       "      <td>18.648602</td>\n",
       "      <td>18.704523</td>\n",
       "      <td>18.474948</td>\n",
       "      <td>18.589736</td>\n",
       "      <td>8403800</td>\n",
       "    </tr>\n",
       "    <tr>\n",
       "      <th>2006-01-09</th>\n",
       "      <td>30.855854</td>\n",
       "      <td>31.100849</td>\n",
       "      <td>30.696941</td>\n",
       "      <td>30.935313</td>\n",
       "      <td>15619400</td>\n",
       "      <td>318.096985</td>\n",
       "      <td>320.397748</td>\n",
       "      <td>317.505364</td>\n",
       "      <td>319.477447</td>\n",
       "      <td>1680740</td>\n",
       "      <td>...</td>\n",
       "      <td>32.676735</td>\n",
       "      <td>32.731943</td>\n",
       "      <td>32.362058</td>\n",
       "      <td>32.367580</td>\n",
       "      <td>4144500</td>\n",
       "      <td>18.645660</td>\n",
       "      <td>18.733960</td>\n",
       "      <td>18.575022</td>\n",
       "      <td>18.645660</td>\n",
       "      <td>5619600</td>\n",
       "    </tr>\n",
       "  </tbody>\n",
       "</table>\n",
       "<p>5 rows × 30 columns</p>\n",
       "</div>"
      ],
      "text/plain": [
       "                  BAC                                                      C  \\\n",
       "Price           Close       High        Low       Open    Volume       Close   \n",
       "Date                                                                           \n",
       "2006-01-03  31.173681  31.239895  30.557888  31.067736  16296700  324.013123   \n",
       "2006-01-04  30.842604  31.279618  30.756524  31.120702  17757900  318.031219   \n",
       "2006-01-05  30.882324  31.008133  30.670439  30.842597  14970700  319.608795   \n",
       "2006-01-06  30.835981  31.061110  30.690309  30.988274  12599800  319.608795   \n",
       "2006-01-09  30.855854  31.100849  30.696941  30.935313  15619400  318.096985   \n",
       "\n",
       "                                                         ...         MS  \\\n",
       "Price             High         Low        Open   Volume  ...      Close   \n",
       "Date                                                     ...              \n",
       "2006-01-03  324.604743  316.256273  322.106780  1537600  ...  32.190899   \n",
       "2006-01-04  322.764226  317.834019  321.186564  1870960  ...  32.212990   \n",
       "2006-01-05  320.660556  318.162594  318.425534  1143160  ...  32.301331   \n",
       "2006-01-06  321.449397  316.847872  321.317917  1370210  ...  32.334457   \n",
       "2006-01-09  320.397748  317.505364  319.477447  1680740  ...  32.676735   \n",
       "\n",
       "                                                            WFC             \\\n",
       "Price            High        Low       Open   Volume      Close       High   \n",
       "Date                                                                         \n",
       "2006-01-03  32.290271  31.324157  31.561543  5377000  18.778112  18.822262   \n",
       "2006-01-04  32.726410  32.212990  32.406214  7977800  18.560308  18.731018   \n",
       "2006-01-05  32.345497  32.030820  32.323414  5778000  18.539709  18.575028   \n",
       "2006-01-06  32.489035  32.047383  32.444871  6889800  18.648602  18.704523   \n",
       "2006-01-09  32.731943  32.362058  32.367580  4144500  18.645660  18.733960   \n",
       "\n",
       "                                            \n",
       "Price             Low       Open    Volume  \n",
       "Date                                        \n",
       "2006-01-03  18.363110  18.601516  11016400  \n",
       "2006-01-04  18.463180  18.719245  10870000  \n",
       "2006-01-05  18.430807  18.542652  10158000  \n",
       "2006-01-06  18.474948  18.589736   8403800  \n",
       "2006-01-09  18.575022  18.645660   5619600  \n",
       "\n",
       "[5 rows x 30 columns]"
      ]
     },
     "execution_count": 21,
     "metadata": {},
     "output_type": "execute_result"
    }
   ],
   "source": [
    "# Note that: we can't set the multi-level index as before because \"bank_stocks\" has three levels instead of two. \n",
    "    # This happens since \"yfinance.download()\" already returns a \"MultiIndex\" with Stock Info (Open/Close) and Ticker, \n",
    "    # and concatenating adds another level.\n",
    "\n",
    "# we use following way ----\n",
    "# Check the number of levels in the MultiIndex\n",
    "print(bank_stocks.columns.nlevels)  # Should print 3\n",
    "\n",
    "# Drop the extra level by resetting the column index\n",
    "bank_stocks.columns = bank_stocks.columns.droplevel(2)  # Drops the repeated ticker level\n",
    "bank_stocks.head()  # Display the change"
   ]
  },
  {
   "cell_type": "code",
   "execution_count": 22,
   "metadata": {},
   "outputs": [
    {
     "data": {
      "text/html": [
       "<div>\n",
       "<style scoped>\n",
       "    .dataframe tbody tr th:only-of-type {\n",
       "        vertical-align: middle;\n",
       "    }\n",
       "\n",
       "    .dataframe tbody tr th {\n",
       "        vertical-align: top;\n",
       "    }\n",
       "\n",
       "    .dataframe thead tr th {\n",
       "        text-align: left;\n",
       "    }\n",
       "\n",
       "    .dataframe thead tr:last-of-type th {\n",
       "        text-align: right;\n",
       "    }\n",
       "</style>\n",
       "<table border=\"1\" class=\"dataframe\">\n",
       "  <thead>\n",
       "    <tr>\n",
       "      <th>Bank Ticker</th>\n",
       "      <th colspan=\"5\" halign=\"left\">BAC</th>\n",
       "      <th colspan=\"5\" halign=\"left\">C</th>\n",
       "      <th>...</th>\n",
       "      <th colspan=\"5\" halign=\"left\">MS</th>\n",
       "      <th colspan=\"5\" halign=\"left\">WFC</th>\n",
       "    </tr>\n",
       "    <tr>\n",
       "      <th>Stock Info</th>\n",
       "      <th>Close</th>\n",
       "      <th>High</th>\n",
       "      <th>Low</th>\n",
       "      <th>Open</th>\n",
       "      <th>Volume</th>\n",
       "      <th>Close</th>\n",
       "      <th>High</th>\n",
       "      <th>Low</th>\n",
       "      <th>Open</th>\n",
       "      <th>Volume</th>\n",
       "      <th>...</th>\n",
       "      <th>Close</th>\n",
       "      <th>High</th>\n",
       "      <th>Low</th>\n",
       "      <th>Open</th>\n",
       "      <th>Volume</th>\n",
       "      <th>Close</th>\n",
       "      <th>High</th>\n",
       "      <th>Low</th>\n",
       "      <th>Open</th>\n",
       "      <th>Volume</th>\n",
       "    </tr>\n",
       "    <tr>\n",
       "      <th>Date</th>\n",
       "      <th></th>\n",
       "      <th></th>\n",
       "      <th></th>\n",
       "      <th></th>\n",
       "      <th></th>\n",
       "      <th></th>\n",
       "      <th></th>\n",
       "      <th></th>\n",
       "      <th></th>\n",
       "      <th></th>\n",
       "      <th></th>\n",
       "      <th></th>\n",
       "      <th></th>\n",
       "      <th></th>\n",
       "      <th></th>\n",
       "      <th></th>\n",
       "      <th></th>\n",
       "      <th></th>\n",
       "      <th></th>\n",
       "      <th></th>\n",
       "      <th></th>\n",
       "    </tr>\n",
       "  </thead>\n",
       "  <tbody>\n",
       "    <tr>\n",
       "      <th>2006-01-03</th>\n",
       "      <td>31.173681</td>\n",
       "      <td>31.239895</td>\n",
       "      <td>30.557888</td>\n",
       "      <td>31.067736</td>\n",
       "      <td>16296700</td>\n",
       "      <td>324.013123</td>\n",
       "      <td>324.604743</td>\n",
       "      <td>316.256273</td>\n",
       "      <td>322.106780</td>\n",
       "      <td>1537600</td>\n",
       "      <td>...</td>\n",
       "      <td>32.190899</td>\n",
       "      <td>32.290271</td>\n",
       "      <td>31.324157</td>\n",
       "      <td>31.561543</td>\n",
       "      <td>5377000</td>\n",
       "      <td>18.778112</td>\n",
       "      <td>18.822262</td>\n",
       "      <td>18.363110</td>\n",
       "      <td>18.601516</td>\n",
       "      <td>11016400</td>\n",
       "    </tr>\n",
       "    <tr>\n",
       "      <th>2006-01-04</th>\n",
       "      <td>30.842604</td>\n",
       "      <td>31.279618</td>\n",
       "      <td>30.756524</td>\n",
       "      <td>31.120702</td>\n",
       "      <td>17757900</td>\n",
       "      <td>318.031219</td>\n",
       "      <td>322.764226</td>\n",
       "      <td>317.834019</td>\n",
       "      <td>321.186564</td>\n",
       "      <td>1870960</td>\n",
       "      <td>...</td>\n",
       "      <td>32.212990</td>\n",
       "      <td>32.726410</td>\n",
       "      <td>32.212990</td>\n",
       "      <td>32.406214</td>\n",
       "      <td>7977800</td>\n",
       "      <td>18.560308</td>\n",
       "      <td>18.731018</td>\n",
       "      <td>18.463180</td>\n",
       "      <td>18.719245</td>\n",
       "      <td>10870000</td>\n",
       "    </tr>\n",
       "    <tr>\n",
       "      <th>2006-01-05</th>\n",
       "      <td>30.882324</td>\n",
       "      <td>31.008133</td>\n",
       "      <td>30.670439</td>\n",
       "      <td>30.842597</td>\n",
       "      <td>14970700</td>\n",
       "      <td>319.608795</td>\n",
       "      <td>320.660556</td>\n",
       "      <td>318.162594</td>\n",
       "      <td>318.425534</td>\n",
       "      <td>1143160</td>\n",
       "      <td>...</td>\n",
       "      <td>32.301331</td>\n",
       "      <td>32.345497</td>\n",
       "      <td>32.030820</td>\n",
       "      <td>32.323414</td>\n",
       "      <td>5778000</td>\n",
       "      <td>18.539709</td>\n",
       "      <td>18.575028</td>\n",
       "      <td>18.430807</td>\n",
       "      <td>18.542652</td>\n",
       "      <td>10158000</td>\n",
       "    </tr>\n",
       "    <tr>\n",
       "      <th>2006-01-06</th>\n",
       "      <td>30.835981</td>\n",
       "      <td>31.061110</td>\n",
       "      <td>30.690309</td>\n",
       "      <td>30.988274</td>\n",
       "      <td>12599800</td>\n",
       "      <td>319.608795</td>\n",
       "      <td>321.449397</td>\n",
       "      <td>316.847872</td>\n",
       "      <td>321.317917</td>\n",
       "      <td>1370210</td>\n",
       "      <td>...</td>\n",
       "      <td>32.334457</td>\n",
       "      <td>32.489035</td>\n",
       "      <td>32.047383</td>\n",
       "      <td>32.444871</td>\n",
       "      <td>6889800</td>\n",
       "      <td>18.648602</td>\n",
       "      <td>18.704523</td>\n",
       "      <td>18.474948</td>\n",
       "      <td>18.589736</td>\n",
       "      <td>8403800</td>\n",
       "    </tr>\n",
       "    <tr>\n",
       "      <th>2006-01-09</th>\n",
       "      <td>30.855854</td>\n",
       "      <td>31.100849</td>\n",
       "      <td>30.696941</td>\n",
       "      <td>30.935313</td>\n",
       "      <td>15619400</td>\n",
       "      <td>318.096985</td>\n",
       "      <td>320.397748</td>\n",
       "      <td>317.505364</td>\n",
       "      <td>319.477447</td>\n",
       "      <td>1680740</td>\n",
       "      <td>...</td>\n",
       "      <td>32.676735</td>\n",
       "      <td>32.731943</td>\n",
       "      <td>32.362058</td>\n",
       "      <td>32.367580</td>\n",
       "      <td>4144500</td>\n",
       "      <td>18.645660</td>\n",
       "      <td>18.733960</td>\n",
       "      <td>18.575022</td>\n",
       "      <td>18.645660</td>\n",
       "      <td>5619600</td>\n",
       "    </tr>\n",
       "  </tbody>\n",
       "</table>\n",
       "<p>5 rows × 30 columns</p>\n",
       "</div>"
      ],
      "text/plain": [
       "Bank Ticker        BAC                                                      C  \\\n",
       "Stock Info       Close       High        Low       Open    Volume       Close   \n",
       "Date                                                                            \n",
       "2006-01-03   31.173681  31.239895  30.557888  31.067736  16296700  324.013123   \n",
       "2006-01-04   30.842604  31.279618  30.756524  31.120702  17757900  318.031219   \n",
       "2006-01-05   30.882324  31.008133  30.670439  30.842597  14970700  319.608795   \n",
       "2006-01-06   30.835981  31.061110  30.690309  30.988274  12599800  319.608795   \n",
       "2006-01-09   30.855854  31.100849  30.696941  30.935313  15619400  318.096985   \n",
       "\n",
       "Bank Ticker                                               ...         MS  \\\n",
       "Stock Info         High         Low        Open   Volume  ...      Close   \n",
       "Date                                                      ...              \n",
       "2006-01-03   324.604743  316.256273  322.106780  1537600  ...  32.190899   \n",
       "2006-01-04   322.764226  317.834019  321.186564  1870960  ...  32.212990   \n",
       "2006-01-05   320.660556  318.162594  318.425534  1143160  ...  32.301331   \n",
       "2006-01-06   321.449397  316.847872  321.317917  1370210  ...  32.334457   \n",
       "2006-01-09   320.397748  317.505364  319.477447  1680740  ...  32.676735   \n",
       "\n",
       "Bank Ticker                                                  WFC             \\\n",
       "Stock Info        High        Low       Open   Volume      Close       High   \n",
       "Date                                                                          \n",
       "2006-01-03   32.290271  31.324157  31.561543  5377000  18.778112  18.822262   \n",
       "2006-01-04   32.726410  32.212990  32.406214  7977800  18.560308  18.731018   \n",
       "2006-01-05   32.345497  32.030820  32.323414  5778000  18.539709  18.575028   \n",
       "2006-01-06   32.489035  32.047383  32.444871  6889800  18.648602  18.704523   \n",
       "2006-01-09   32.731943  32.362058  32.367580  4144500  18.645660  18.733960   \n",
       "\n",
       "Bank Ticker                                  \n",
       "Stock Info         Low       Open    Volume  \n",
       "Date                                         \n",
       "2006-01-03   18.363110  18.601516  11016400  \n",
       "2006-01-04   18.463180  18.719245  10870000  \n",
       "2006-01-05   18.430807  18.542652  10158000  \n",
       "2006-01-06   18.474948  18.589736   8403800  \n",
       "2006-01-09   18.575022  18.645660   5619600  \n",
       "\n",
       "[5 rows x 30 columns]"
      ]
     },
     "execution_count": 22,
     "metadata": {},
     "output_type": "execute_result"
    }
   ],
   "source": [
    "# Now correctly assign MultiIndex column names\n",
    "bank_stocks.columns.names = ['Bank Ticker', 'Stock Info']\n",
    "\n",
    "# Display the fixed columns\n",
    "bank_stocks.head()"
   ]
  },
  {
   "cell_type": "code",
   "execution_count": 23,
   "metadata": {},
   "outputs": [],
   "source": [
    "# ----    save as pickle    ----\n",
    "# to_pickle() comes from \"pandas\". \n",
    "    # It is a method available for pandas \"DataFrames\" and \"Series\", \n",
    "    # allowing you to serialize and save data in \"pickle\" format\n",
    "bank_stocks.to_pickle(\"bank_stocks_yahoo.pkl\")"
   ]
  },
  {
   "cell_type": "markdown",
   "metadata": {},
   "source": [
    "___"
   ]
  },
  {
   "cell_type": "markdown",
   "metadata": {},
   "source": [
    "## ----------------    EDA    ----------------\n",
    "    # EDA stands for Exploratory Data Analysis. \n",
    "    # It involves analyzing and visualizing datasets to understand \n",
    "        # patterns, trends, and relationships before applying further data processing or modeling."
   ]
  },
  {
   "cell_type": "code",
   "execution_count": 2,
   "metadata": {},
   "outputs": [],
   "source": [
    "# ----  load the pickle dataset  ----\n",
    "df1 = pd.read_pickle(\"bank_stocks_yahoo.pkl\")  # Load a pickle file into a DataFrame"
   ]
  },
  {
   "cell_type": "code",
   "execution_count": null,
   "metadata": {},
   "outputs": [],
   "source": [
    "# data info\n",
    "df1.info()"
   ]
  },
  {
   "cell_type": "code",
   "execution_count": null,
   "metadata": {},
   "outputs": [],
   "source": [
    "# inspect first 5 row\n",
    "df1.head()"
   ]
  },
  {
   "cell_type": "code",
   "execution_count": null,
   "metadata": {},
   "outputs": [],
   "source": [
    "# The DataFrame has a multi-level index:\n",
    "    # 6 banks at the first level.\n",
    "    # Each bank has 2517 rows and 5 columns\n",
    "print(\"--------    BAC    --------\\n\", df1['BAC'])\n",
    "print(\"--------    C    --------\\n\", df1['C'])"
   ]
  },
  {
   "cell_type": "markdown",
   "metadata": {},
   "source": [
    "### ----    cross-section (xs)    ----"
   ]
  },
  {
   "cell_type": "code",
   "execution_count": null,
   "metadata": {},
   "outputs": [],
   "source": [
    "# Check the column index levels\n",
    "print(df1.columns)  # This will show the structure of the MultiIndex columns\n",
    "\n",
    "# DataFrame has a two-level MultiIndex for columns:\n",
    "    # Level 0: Bank Ticker (BAC, C, GS, etc.)\n",
    "    # Level 1: Stock Info (Close, High, Low, etc.)"
   ]
  },
  {
   "cell_type": "code",
   "execution_count": 3,
   "metadata": {},
   "outputs": [],
   "source": [
    "# returns cross-section of row(s) or column(s) in multi-indexed dataframe\n",
    "    # axis=0: Operate on rows (index-wise)\n",
    "    # axis=1: Operate on columns (column-wise)\n",
    "close_prices = df1.xs('Close', level=\"Stock Info\", axis=1) # 'Close' valuse for all 6 banks"
   ]
  },
  {
   "cell_type": "code",
   "execution_count": null,
   "metadata": {},
   "outputs": [],
   "source": [
    "# What is the max Close price for each bank's stock throughout the time period?\n",
    "max_close_prices = close_prices.max()\n",
    "print(max_close_prices)"
   ]
  },
  {
   "cell_type": "code",
   "execution_count": null,
   "metadata": {},
   "outputs": [],
   "source": [
    "# in single line\n",
    "df1.xs(key='Close',axis=1,level='Stock Info').max()"
   ]
  },
  {
   "cell_type": "markdown",
   "metadata": {},
   "source": [
    "### ------------    calculate RETURNS    ------------\n",
    "    # Create a new empty DataFrame called \"returns\" for daily return percentages for each bank's stock.\n",
    "    # This dataframe will contain the returns for each bank's stock. "
   ]
  },
  {
   "cell_type": "code",
   "execution_count": 4,
   "metadata": {},
   "outputs": [],
   "source": [
    "returns = pd.DataFrame()"
   ]
  },
  {
   "cell_type": "markdown",
   "metadata": {},
   "source": [
    "# LATEX note: \n",
    "    # block level math $$...$$ and \\[...\\]\n",
    "    # inline math $...$ and \\(...\\)\n",
    "\n",
    "### returns are typically defined by:\n",
    "$$r_t = \\frac{p_t - p_{t-1}}{p_{t-1}} = \\frac{p_t}{p_{t-1}} - 1$$\n",
    "Where $p_t$ is today's price and $p_{t-1}$ is the previous day's price."
   ]
  },
  {
   "cell_type": "code",
   "execution_count": 5,
   "metadata": {},
   "outputs": [],
   "source": [
    "# Use .pct_change() to compute daily returns for each bank's \"Close\" price.\n",
    "# Store the results in \"returns\".\n",
    "for bank in close_prices.columns:\n",
    "    returns[bank+' return'] = close_prices[bank].pct_change()"
   ]
  },
  {
   "cell_type": "code",
   "execution_count": 7,
   "metadata": {},
   "outputs": [
    {
     "data": {
      "text/html": [
       "<div>\n",
       "<style scoped>\n",
       "    .dataframe tbody tr th:only-of-type {\n",
       "        vertical-align: middle;\n",
       "    }\n",
       "\n",
       "    .dataframe tbody tr th {\n",
       "        vertical-align: top;\n",
       "    }\n",
       "\n",
       "    .dataframe thead th {\n",
       "        text-align: right;\n",
       "    }\n",
       "</style>\n",
       "<table border=\"1\" class=\"dataframe\">\n",
       "  <thead>\n",
       "    <tr style=\"text-align: right;\">\n",
       "      <th></th>\n",
       "      <th>BAC return</th>\n",
       "      <th>C return</th>\n",
       "      <th>GS return</th>\n",
       "      <th>JPM return</th>\n",
       "      <th>MS return</th>\n",
       "      <th>WFC return</th>\n",
       "    </tr>\n",
       "    <tr>\n",
       "      <th>Date</th>\n",
       "      <th></th>\n",
       "      <th></th>\n",
       "      <th></th>\n",
       "      <th></th>\n",
       "      <th></th>\n",
       "      <th></th>\n",
       "    </tr>\n",
       "  </thead>\n",
       "  <tbody>\n",
       "    <tr>\n",
       "      <th>2006-01-03</th>\n",
       "      <td>NaN</td>\n",
       "      <td>NaN</td>\n",
       "      <td>NaN</td>\n",
       "      <td>NaN</td>\n",
       "      <td>NaN</td>\n",
       "      <td>NaN</td>\n",
       "    </tr>\n",
       "    <tr>\n",
       "      <th>2006-01-04</th>\n",
       "      <td>-0.010620</td>\n",
       "      <td>-0.018462</td>\n",
       "      <td>-0.013813</td>\n",
       "      <td>-0.005771</td>\n",
       "      <td>0.000686</td>\n",
       "      <td>-0.011599</td>\n",
       "    </tr>\n",
       "    <tr>\n",
       "      <th>2006-01-05</th>\n",
       "      <td>0.001288</td>\n",
       "      <td>0.004960</td>\n",
       "      <td>-0.000393</td>\n",
       "      <td>0.003029</td>\n",
       "      <td>0.002742</td>\n",
       "      <td>-0.001110</td>\n",
       "    </tr>\n",
       "    <tr>\n",
       "      <th>2006-01-06</th>\n",
       "      <td>-0.001501</td>\n",
       "      <td>0.000000</td>\n",
       "      <td>0.014168</td>\n",
       "      <td>0.007046</td>\n",
       "      <td>0.001026</td>\n",
       "      <td>0.005873</td>\n",
       "    </tr>\n",
       "    <tr>\n",
       "      <th>2006-01-09</th>\n",
       "      <td>0.000644</td>\n",
       "      <td>-0.004730</td>\n",
       "      <td>0.012030</td>\n",
       "      <td>0.016242</td>\n",
       "      <td>0.010586</td>\n",
       "      <td>-0.000158</td>\n",
       "    </tr>\n",
       "  </tbody>\n",
       "</table>\n",
       "</div>"
      ],
      "text/plain": [
       "            BAC return  C return  GS return  JPM return  MS return  WFC return\n",
       "Date                                                                          \n",
       "2006-01-03         NaN       NaN        NaN         NaN        NaN         NaN\n",
       "2006-01-04   -0.010620 -0.018462  -0.013813   -0.005771   0.000686   -0.011599\n",
       "2006-01-05    0.001288  0.004960  -0.000393    0.003029   0.002742   -0.001110\n",
       "2006-01-06   -0.001501  0.000000   0.014168    0.007046   0.001026    0.005873\n",
       "2006-01-09    0.000644 -0.004730   0.012030    0.016242   0.010586   -0.000158"
      ]
     },
     "execution_count": 7,
     "metadata": {},
     "output_type": "execute_result"
    }
   ],
   "source": [
    "returns.head()"
   ]
  },
  {
   "cell_type": "markdown",
   "metadata": {},
   "source": [
    "#### about pct_change(): \n",
    "    # It is fractional change between the current and a prior element.\n",
    "    # Computes the fractional change from the immediately previous row by default. \n",
    "    # This is useful in comparing the fraction of change in a time series of elements."
   ]
  },
  {
   "cell_type": "code",
   "execution_count": null,
   "metadata": {},
   "outputs": [],
   "source": [
    "# Create a pairplot using seaborn from \"returns\" data \n",
    "import seaborn as sns\n",
    "sns.pairplot(returns[1:])"
   ]
  },
  {
   "cell_type": "code",
   "execution_count": null,
   "metadata": {},
   "outputs": [],
   "source": [
    "sns.pairplot(returns[1:], diag_kws={'bins': 30})  # Set bins to 30"
   ]
  },
  {
   "cell_type": "markdown",
   "metadata": {},
   "source": [
    "## Which stock stands out, and how can we determine why?"
   ]
  },
  {
   "cell_type": "code",
   "execution_count": 7,
   "metadata": {},
   "outputs": [
    {
     "data": {
      "text/plain": [
       "BAC return    0.000341\n",
       "C return     -0.000098\n",
       "GS return     0.000497\n",
       "JPM return    0.000675\n",
       "MS return     0.000550\n",
       "WFC return    0.000760\n",
       "dtype: float64"
      ]
     },
     "execution_count": 7,
     "metadata": {},
     "output_type": "execute_result"
    }
   ],
   "source": [
    "# How to Identify the Best/Worst Performing Stock?\n",
    "\n",
    "# --------  Calculate Summary Statistics  --------\n",
    "#     Use .mean() to get the average return.\n",
    "#     Use .std() to check volatility (higher standard deviation means more risk).\n",
    "\n",
    "returns.mean()"
   ]
  },
  {
   "cell_type": "code",
   "execution_count": 8,
   "metadata": {},
   "outputs": [
    {
     "data": {
      "text/plain": [
       "BAC return    0.036659\n",
       "C return      0.038672\n",
       "GS return     0.025386\n",
       "JPM return    0.027675\n",
       "MS return     0.037717\n",
       "WFC return    0.030195\n",
       "dtype: float64"
      ]
     },
     "execution_count": 8,
     "metadata": {},
     "output_type": "execute_result"
    }
   ],
   "source": [
    "returns.std()"
   ]
  },
  {
   "cell_type": "code",
   "execution_count": 9,
   "metadata": {},
   "outputs": [
    {
     "name": "stdout",
     "output_type": "stream",
     "text": [
      "Best performing stock: WFC return\n",
      "Worst performing stock: C return\n"
     ]
    }
   ],
   "source": [
    "# Find the Best/Worst Performing Stock:\n",
    "    # The highest mean return -> Best-performing stock.\n",
    "    # The lowest mean return -> Worst-performing stock.\n",
    "\n",
    "best_stock = returns.mean().idxmax()\n",
    "worst_stock = returns.mean().idxmin()\n",
    "print(f\"Best performing stock: {best_stock}\")\n",
    "print(f\"Worst performing stock: {worst_stock}\")"
   ]
  },
  {
   "cell_type": "code",
   "execution_count": null,
   "metadata": {},
   "outputs": [],
   "source": [
    "# Visualize Returns:\n",
    "import seaborn as sns\n",
    "import matplotlib.pyplot as plt\n",
    "\n",
    "plt.figure(figsize=(8, 16))\n",
    "sns.boxplot(data=returns)\n",
    "plt.title(\"Stock Return Distribution\")\n",
    "plt.show()"
   ]
  },
  {
   "cell_type": "code",
   "execution_count": null,
   "metadata": {},
   "outputs": [],
   "source": [
    "# -------------  subplots  -------------\n",
    "# Below is a subplots-based visualization that separately plots histograms with \n",
    "    # KDE (Kernel Density Estimation) and \n",
    "    # standard deviation (std) lines \n",
    "# for each bank in the returns DataFrame.\n",
    "\n",
    "# Histogram & KDE are plotted together (sns.histplot() with kde=True).\n",
    "# Standard deviation lines are drawn using ax.axvline().\n",
    "\n",
    "# Handles multiple banks dynamically (for i, bank in enumerate(returns.columns)).\n",
    "\n",
    "import seaborn as sns\n",
    "import matplotlib.pyplot as plt\n",
    "import numpy as np\n",
    "\n",
    "# Define number of banks (columns in 'returns')\n",
    "num_banks = len(returns.columns)\n",
    "\n",
    "# Create subplots: one row per bank\n",
    "fig, axes = plt.subplots(num_banks, 1, figsize=(10, 3 * num_banks))\n",
    "\n",
    "# Loop through each bank and plot histogram with KDE & std\n",
    "for i, bank in enumerate(returns.columns):\n",
    "    ax = axes[i] if num_banks > 1 else axes  # Handle single subplot case\n",
    "    \n",
    "    # Plot histogram & KDE\n",
    "    sns.histplot(returns[bank], kde=True, bins=30, ax=ax)\n",
    "    \n",
    "    # Compute mean & standard deviation\n",
    "    mean_val = returns[bank].mean()\n",
    "    std_val = returns[bank].std()\n",
    "    \n",
    "    # Draw standard deviation lines\n",
    "    ax.axvline(mean_val, color='red', linestyle='--', label='Mean')\n",
    "    ax.axvline(mean_val + std_val, color='blue', linestyle='--', label='±1 Std')\n",
    "    ax.axvline(mean_val - std_val, color='blue', linestyle='--')\n",
    "    \n",
    "    ax.set_title(f\"Returns Distribution for {bank}\")\n",
    "    ax.legend()\n",
    "\n",
    "# Adjust layout and show plot\n",
    "plt.tight_layout()\n",
    "plt.show()"
   ]
  },
  {
   "cell_type": "code",
   "execution_count": 11,
   "metadata": {},
   "outputs": [
    {
     "data": {
      "image/png": "[encoded data removed]",
      "text/plain": [
       "<Figure size 1200x1000 with 6 Axes>"
      ]
     },
     "metadata": {},
     "output_type": "display_data"
    }
   ],
   "source": [
    "# -------------  subplot (same scale)  -------------\n",
    "# Volatility: A high standard deviation may indicate a riskier stock.\n",
    "\n",
    "import seaborn as sns\n",
    "import matplotlib.pyplot as plt\n",
    "import numpy as np\n",
    "\n",
    "# Define number of banks (columns in 'returns')\n",
    "num_banks = len(returns.columns)\n",
    "\n",
    "# Define subplot grid (3 rows, 2 columns)\n",
    "fig, axes = plt.subplots(3, 2, figsize=(12, 10))\n",
    "\n",
    "# Flatten axes array for easier indexing\n",
    "axes = axes.flatten()\n",
    "\n",
    "# Fixed x, y axis range\n",
    "x_min, x_max = -0.1, 0.1\n",
    "y_min, y_max = 0, 2000\n",
    "\n",
    "# Loop through each bank and plot histogram with KDE & std\n",
    "for i, bank in enumerate(returns.columns):\n",
    "    ax = axes[i]\n",
    "\n",
    "    # Plot histogram & KDE\n",
    "    sns.histplot(returns[bank], kde=True, bins=30, ax=ax)\n",
    "    \n",
    "    # Compute mean & standard deviation\n",
    "    mean_val = returns[bank].mean()\n",
    "    std_val = returns[bank].std()\n",
    "    \n",
    "    # Draw standard deviation lines\n",
    "    ax.axvline(mean_val, color='red', linestyle='--', label='Mean')\n",
    "    ax.axvline(mean_val + std_val, color='blue', linestyle='--', label='±1 Std')\n",
    "    ax.axvline(mean_val - std_val, color='blue', linestyle='--')\n",
    "    \n",
    "    # Set title and x-axis limits\n",
    "    ax.set_title(f\"Returns Distribution for {bank}\")\n",
    "    ax.set_xlim(x_min, x_max)  # Fixed x-axis range\n",
    "    ax.set_ylim(y_min, y_max)  # Fixed y-axis range\n",
    "    ax.legend()\n",
    "\n",
    "# Hide unused subplots if num_banks < 6\n",
    "for i in range(num_banks, len(axes)):\n",
    "    fig.delaxes(axes[i])\n",
    "\n",
    "# Adjust layout and show plot\n",
    "plt.tight_layout()\n",
    "plt.show()\n"
   ]
  },
  {
   "cell_type": "markdown",
   "metadata": {},
   "source": [
    "## --------  best and worst single day returns  --------"
   ]
  },
  {
   "cell_type": "code",
   "execution_count": 2,
   "metadata": {},
   "outputs": [],
   "source": [
    "# short \"returns\" processing. Now we use the \"old pickle\" from google\n",
    "df1 = pd.read_pickle(\"data_all_banks\")  # Load a pickle file into a DataFrame\n",
    "close_prices = df1.xs('Close', level=\"Stock Info\", axis=1) # 'Close' valuse for all 6 banks\n",
    "\n",
    "returns = pd.DataFrame()\n",
    "for bank in close_prices.columns:\n",
    "    returns[bank+' return'] = close_prices[bank].pct_change()"
   ]
  },
  {
   "cell_type": "markdown",
   "metadata": {},
   "source": [
    "#### Identify the dates on which each bank stock had the \"highest\" (best) and \"lowest\" (worst) single-day returns.\n"
   ]
  },
  {
   "cell_type": "code",
   "execution_count": 4,
   "metadata": {},
   "outputs": [
    {
     "name": "stdout",
     "output_type": "stream",
     "text": [
      "BAC return:\n",
      "  Best Day:   2009-04-09 — Return: 0.3527\n",
      "  Worst Day:  2009-01-20 — Return: -0.2897\n",
      "\n",
      "C return:\n",
      "  Best Day:   2011-05-09 — Return: 8.7699\n",
      "  Worst Day:  2011-05-06 — Return: -0.8991\n",
      "\n",
      "GS return:\n",
      "  Best Day:   2008-11-24 — Return: 0.2647\n",
      "  Worst Day:  2009-01-20 — Return: -0.1896\n",
      "\n",
      "JPM return:\n",
      "  Best Day:   2009-01-21 — Return: 0.2510\n",
      "  Worst Day:  2009-01-20 — Return: -0.2073\n",
      "\n",
      "MS return:\n",
      "  Best Day:   2008-10-13 — Return: 0.8698\n",
      "  Worst Day:  2008-10-09 — Return: -0.2589\n",
      "\n",
      "WFC return:\n",
      "  Best Day:   2008-07-16 — Return: 0.3276\n",
      "  Worst Day:  2009-01-20 — Return: -0.2382\n",
      "\n"
     ]
    }
   ],
   "source": [
    "for bank in returns.columns:\n",
    "    max_return_date = returns[bank].idxmax()\n",
    "    min_return_date = returns[bank].idxmin()\n",
    "    max_return = returns[bank].loc[max_return_date]\n",
    "    min_return = returns[bank].loc[min_return_date]\n",
    "\n",
    "    print(f\"{bank}:\")\n",
    "    print(f\"  Best Day:   {max_return_date.date()} — Return: {max_return:.4f}\")\n",
    "    print(f\"  Worst Day:  {min_return_date.date()} — Return: {min_return:.4f}\")\n",
    "    print()"
   ]
  },
  {
   "cell_type": "code",
   "execution_count": null,
   "metadata": {},
   "outputs": [],
   "source": [
    "# Notie: Four of the banks experienced their worst drop on the same date. \n",
    "#           it is \"2009-01-20\" and the banks are BAC, GS, JPM, WFC\n",
    "#       Investigate whether a significant event occurred on that day."
   ]
  },
  {
   "cell_type": "markdown",
   "metadata": {},
   "source": [
    "### Significant Drop in Bank Stocks — January 20, 2009\n",
    "\n",
    "On **January 20, 2009**, four major U.S. banks —  \n",
    "**Bank of America (BAC)**, **Goldman Sachs (GS)**, **JPMorgan Chase (JPM)**, and **Wells Fargo (WFC)** — experienced their **worst single-day stock return** in the dataset.\n",
    "\n",
    "This sharp decline coincided with the **inauguration of President Barack Obama**, suggesting that the market downturn occurred during a period of heightened uncertainty and stress in the financial sector."
   ]
  },
  {
   "cell_type": "code",
   "execution_count": 5,
   "metadata": {},
   "outputs": [
    {
     "data": {
      "text/plain": [
       "BAC return   2009-01-20\n",
       "C return     2011-05-06\n",
       "GS return    2009-01-20\n",
       "JPM return   2009-01-20\n",
       "MS return    2008-10-09\n",
       "WFC return   2009-01-20\n",
       "dtype: datetime64[ns]"
      ]
     },
     "execution_count": 5,
     "metadata": {},
     "output_type": "execute_result"
    }
   ],
   "source": [
    "# Worst Drop (4 of them on Inauguration day)\n",
    "returns.idxmin()"
   ]
  },
  {
   "cell_type": "code",
   "execution_count": 6,
   "metadata": {},
   "outputs": [
    {
     "data": {
      "text/plain": [
       "BAC return   2009-04-09\n",
       "C return     2011-05-09\n",
       "GS return    2008-11-24\n",
       "JPM return   2009-01-21\n",
       "MS return    2008-10-13\n",
       "WFC return   2008-07-16\n",
       "dtype: datetime64[ns]"
      ]
     },
     "execution_count": 6,
     "metadata": {},
     "output_type": "execute_result"
    }
   ],
   "source": [
    "# Best Single Day Gain\n",
    "# citigroup stock split in May 2011, but also JPM day after inauguration.\n",
    "returns.idxmax()"
   ]
  },
  {
   "cell_type": "markdown",
   "metadata": {},
   "source": [
    "### Citigroup Reverse Stock Split – May 2011\n",
    "\n",
    "In **May 2011**, Citigroup carried out a **1-for-10 reverse stock split**, meaning every **10 existing shares** were combined into **1 new share**. This reduced the number of outstanding shares from about **29 billion to 2.9 billion**.\n",
    "\n",
    "- **Effective Date:** The split became official after the market closed on **May 6, 2011**, and trading resumed with adjusted prices on **May 9, 2011**.\n",
    "- **Purpose:** The move aimed to raise the share price and make the stock more attractive to institutional investors.\n",
    "- **Dividend Reinstated:** Citigroup also resumed a **quarterly dividend of $0.01** per share, the first since 2009.\n"
   ]
  },
  {
   "cell_type": "markdown",
   "metadata": {},
   "source": [
    "## ----  riskiest stock  ----\n",
    "#### Overall Risk: \n",
    "    # Check the \"standard deviation\" of returns for each stock over the full time period. \n",
    "    # A higher value indicates more volatility (i.e., higher risk).\n",
    "\n",
    "#### Risk in 2015: \n",
    "    # Repeat the same analysis, but only using data from 2015 to see which stock was the most volatile that year."
   ]
  },
  {
   "cell_type": "code",
   "execution_count": 3,
   "metadata": {},
   "outputs": [
    {
     "name": "stdout",
     "output_type": "stream",
     "text": [
      "Standard Deviation - Entire Period:\n",
      "C return      0.179969\n",
      "MS return     0.037820\n",
      "BAC return    0.036650\n",
      "WFC return    0.030233\n",
      "JPM return    0.027656\n",
      "GS return     0.025346\n",
      "dtype: float64\n"
     ]
    }
   ],
   "source": [
    "# Overall standard deviation (entire time period)\n",
    "overall_std = returns.std().sort_values(ascending=False)\n",
    "print(\"Standard Deviation - Entire Period:\")\n",
    "print(overall_std)"
   ]
  },
  {
   "cell_type": "code",
   "execution_count": 6,
   "metadata": {},
   "outputs": [
    {
     "name": "stdout",
     "output_type": "stream",
     "text": [
      "\n",
      "Standard Deviation - Year 2015:\n",
      "MS return     0.016249\n",
      "BAC return    0.016163\n",
      "C return      0.015289\n",
      "GS return     0.014046\n",
      "JPM return    0.014017\n",
      "WFC return    0.012591\n",
      "dtype: float64\n"
     ]
    }
   ],
   "source": [
    "# Standard deviation for the year 2015\n",
    "returns_2015 = returns['2015']\n",
    "std_2015 = returns_2015.std().sort_values(ascending=False)\n",
    "print(\"\\nStandard Deviation - Year 2015:\")\n",
    "print(std_2015)"
   ]
  },
  {
   "cell_type": "code",
   "execution_count": 22,
   "metadata": {},
   "outputs": [
    {
     "data": {
      "text/plain": [
       "<AxesSubplot:xlabel='MS return', ylabel='Density'>"
      ]
     },
     "execution_count": 22,
     "metadata": {},
     "output_type": "execute_result"
    },
    {
     "data": {
      "image/png": "[encoded data removed]",
      "text/plain": [
       "<Figure size 640x480 with 1 Axes>"
      ]
     },
     "metadata": {},
     "output_type": "display_data"
    }
   ],
   "source": [
    "sns.distplot(returns['2015']['MS return'], bins=100, color='red', kde=True)"
   ]
  },
  {
   "cell_type": "code",
   "execution_count": 18,
   "metadata": {},
   "outputs": [
    {
     "data": {
      "text/plain": [
       "<AxesSubplot:xlabel='MS return', ylabel='Count'>"
      ]
     },
     "execution_count": 18,
     "metadata": {},
     "output_type": "execute_result"
    },
    {
     "data": {
      "image/png": "[encoded data removed]",
      "text/plain": [
       "<Figure size 640x480 with 1 Axes>"
      ]
     },
     "metadata": {},
     "output_type": "display_data"
    }
   ],
   "source": [
    "ms_ret = returns['2015']['MS return']\n",
    "sns.histplot(ms_ret, bins=100, color='red', kde=True)"
   ]
  },
  {
   "cell_type": "code",
   "execution_count": 17,
   "metadata": {},
   "outputs": [
    {
     "data": {
      "text/plain": [
       "<AxesSubplot:xlabel='C return', ylabel='Count'>"
      ]
     },
     "execution_count": 17,
     "metadata": {},
     "output_type": "execute_result"
    },
    {
     "data": {
      "image/png": "[encoded data removed]",
      "text/plain": [
       "<Figure size 640x480 with 1 Axes>"
      ]
     },
     "metadata": {},
     "output_type": "display_data"
    }
   ],
   "source": [
    "c_ret = returns['2008']['C return']\n",
    "sns.histplot(c_ret, bins=100, color='green', kde=True)"
   ]
  }
 ],
 "metadata": {
  "kernelspec": {
   "display_name": "Python 3.10.3 64-bit",
   "language": "python",
   "name": "python3"
  },
  "language_info": {
   "codemirror_mode": {
    "name": "ipython",
    "version": 3
   },
   "file_extension": ".py",
   "mimetype": "text/x-python",
   "name": "python",
   "nbconvert_exporter": "python",
   "pygments_lexer": "ipython3",
   "version": "3.10.3"
  },
  "orig_nbformat": 4,
  "vscode": {
   "interpreter": {
    "hash": "b7534786ec8a9cff2926c7e81f9ca1d65065bc188d16e9c2279a84a4000586bc"
   }
  }
 },
 "nbformat": 4,
 "nbformat_minor": 2
}

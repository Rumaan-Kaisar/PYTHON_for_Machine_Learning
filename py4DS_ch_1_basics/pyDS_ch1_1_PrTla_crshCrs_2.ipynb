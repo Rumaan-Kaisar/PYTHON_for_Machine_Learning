{
 "cells": [
  {
   "cell_type": "markdown",
   "metadata": {},
   "source": [
    "# --------    function    --------"
   ]
  },
  {
   "cell_type": "code",
   "execution_count": 1,
   "metadata": {},
   "outputs": [
    {
     "name": "stdout",
     "output_type": "stream",
     "text": [
      "Hello\n"
     ]
    }
   ],
   "source": [
    "def my_func(param1):\n",
    "    print(param1)\n",
    "\n",
    "my_func(\"Hello\")"
   ]
  },
  {
   "cell_type": "code",
   "execution_count": 2,
   "metadata": {},
   "outputs": [
    {
     "name": "stdout",
     "output_type": "stream",
     "text": [
      "Hello Mi MI\n"
     ]
    }
   ],
   "source": [
    "\n",
    "def my_func2(name):\n",
    "    print(\"Hello \"+name)\n",
    "\n",
    "my_func2(\"Mi MI\")"
   ]
  },
  {
   "cell_type": "code",
   "execution_count": 3,
   "metadata": {},
   "outputs": [
    {
     "name": "stdout",
     "output_type": "stream",
     "text": [
      "Hello Default Name\n"
     ]
    }
   ],
   "source": [
    "\n",
    "# Using default value\n",
    "def my_func3(name='Default Name'):\n",
    "    print(\"Hello \"+name)\n",
    "\n",
    "my_func3()"
   ]
  },
  {
   "cell_type": "code",
   "execution_count": 4,
   "metadata": {},
   "outputs": [
    {
     "name": "stdout",
     "output_type": "stream",
     "text": [
      "Hello Gogo\n"
     ]
    }
   ],
   "source": [
    "my_func3('Gogo')"
   ]
  },
  {
   "cell_type": "code",
   "execution_count": 5,
   "metadata": {},
   "outputs": [
    {
     "name": "stdout",
     "output_type": "stream",
     "text": [
      "Hello Bogo\n"
     ]
    }
   ],
   "source": [
    "my_func3(name='Bogo')"
   ]
  },
  {
   "cell_type": "code",
   "execution_count": 6,
   "metadata": {},
   "outputs": [
    {
     "data": {
      "text/plain": [
       "<function __main__.my_func3(name='Default Name')>"
      ]
     },
     "execution_count": 6,
     "metadata": {},
     "output_type": "execute_result"
    }
   ],
   "source": [
    "# () used to call (execute) a function\n",
    "    # following won't call  the function\n",
    "my_func3"
   ]
  },
  {
   "cell_type": "code",
   "execution_count": 7,
   "metadata": {},
   "outputs": [
    {
     "data": {
      "text/plain": [
       "144"
      ]
     },
     "execution_count": 7,
     "metadata": {},
     "output_type": "execute_result"
    }
   ],
   "source": [
    "# Return values from a function\n",
    "def sqRnum(n):\n",
    "    return n**2\n",
    "\n",
    "out = sqRnum(12)\n",
    "out"
   ]
  },
  {
   "cell_type": "markdown",
   "metadata": {},
   "source": [
    "---"
   ]
  },
  {
   "cell_type": "markdown",
   "metadata": {},
   "source": [
    "# --------    DOCKSTRING : adding function info    --------\n",
    "    # use ''' or \"\"\" immediately after function declaration\n",
    "    # we can get information from library functions from their DOCSTRING"
   ]
  },
  {
   "cell_type": "code",
   "execution_count": 1,
   "metadata": {},
   "outputs": [],
   "source": [
    "def sqRnum(n):\n",
    "    '''\n",
    "        THIS IS A DOCSTRING.\n",
    "        CAN GO MULTIPLE LINES.\n",
    "        THIS FUNCTION SQUARES A NUMBER.\n",
    "    '''\n",
    "    return n**2"
   ]
  },
  {
   "cell_type": "code",
   "execution_count": 2,
   "metadata": {},
   "outputs": [],
   "source": [
    "\n",
    "def my_func4(name='Default Name'):\n",
    "    \"\"\"\n",
    "        This is another DOCKSTRING\n",
    "    \"\"\"\n",
    "    print(\"Hello \"+name)"
   ]
  },
  {
   "cell_type": "code",
   "execution_count": null,
   "metadata": {},
   "outputs": [],
   "source": [
    "sqRnum\n",
    "my_func4"
   ]
  },
  {
   "cell_type": "markdown",
   "metadata": {},
   "source": [
    "---"
   ]
  },
  {
   "cell_type": "markdown",
   "metadata": {},
   "source": [
    "# --------    Lambda Expression, Map & Filter    --------\n",
    "    # use Lambda Expression instead of writing full function"
   ]
  },
  {
   "cell_type": "code",
   "execution_count": 1,
   "metadata": {},
   "outputs": [
    {
     "data": {
      "text/plain": [
       "10"
      ]
     },
     "execution_count": 1,
     "metadata": {},
     "output_type": "execute_result"
    }
   ],
   "source": [
    "# a normal function\n",
    "def times2(num):\n",
    "    return num*2\n",
    "\n",
    "times2(5)"
   ]
  },
  {
   "cell_type": "markdown",
   "metadata": {},
   "source": [
    "### --------    map()    --------"
   ]
  },
  {
   "cell_type": "code",
   "execution_count": 2,
   "metadata": {},
   "outputs": [
    {
     "data": {
      "text/plain": [
       "<map at 0x2b71c84ead0>"
      ]
     },
     "execution_count": 2,
     "metadata": {},
     "output_type": "execute_result"
    }
   ],
   "source": [
    "seq = [1,2,3,4,5]\n",
    "# we want to apply times2() on each element of the list \"seq\"\n",
    "    # method 1 : we can use a for-loop and make another list\n",
    "    # method 2 : use map(), it's a python built-in function to do the same thing\n",
    "\"\"\" \n",
    "    map(func, *iterables) --> map object\n",
    "\n",
    "    Make an iterator that computes the function using arguments from each of the iterables. \n",
    "    Stops when the shortest iterable is exhausted.\n",
    "\"\"\"\n",
    "\n",
    "map(times2, seq)    # mapped every elemnt of \"seq\" in a map-obj using the function \"times2\""
   ]
  },
  {
   "cell_type": "code",
   "execution_count": 3,
   "metadata": {},
   "outputs": [
    {
     "data": {
      "text/plain": [
       "[2, 4, 6, 8, 10]"
      ]
     },
     "execution_count": 3,
     "metadata": {},
     "output_type": "execute_result"
    }
   ],
   "source": [
    "# converting map-obj to a list\n",
    "list(map(times2, seq))\n",
    "\n",
    "# It's more usefull with \"Lambda Expression\" instead of writing a whole function"
   ]
  },
  {
   "cell_type": "markdown",
   "metadata": {},
   "source": [
    "### --------    Lambda Expression    --------"
   ]
  },
  {
   "cell_type": "code",
   "execution_count": 4,
   "metadata": {},
   "outputs": [],
   "source": [
    "# now we convert above times2() to a lambda function\n",
    "# our function can be re-written as\n",
    "def times2(num): return num*2\n",
    "# in lambda expression we don't use \"def times2\" and \"return\" we define it as below\n",
    "    # we just directly use the retrning expression"
   ]
  },
  {
   "cell_type": "code",
   "execution_count": 5,
   "metadata": {},
   "outputs": [
    {
     "data": {
      "text/plain": [
       "<function __main__.<lambda>(num)>"
      ]
     },
     "execution_count": 5,
     "metadata": {},
     "output_type": "execute_result"
    }
   ],
   "source": [
    "# lambda expression of times2()\n",
    "lambda num: num*2"
   ]
  },
  {
   "cell_type": "code",
   "execution_count": 6,
   "metadata": {},
   "outputs": [
    {
     "data": {
      "text/plain": [
       "120"
      ]
     },
     "execution_count": 6,
     "metadata": {},
     "output_type": "execute_result"
    }
   ],
   "source": [
    "# we can also store it in a variable, and call it later\n",
    "    # however we don't usually use lambda like this\n",
    "    # we'll use lambda for a mpa() like things\n",
    "t = lambda num: num*2\n",
    "t(60)"
   ]
  },
  {
   "cell_type": "code",
   "execution_count": 7,
   "metadata": {},
   "outputs": [
    {
     "data": {
      "text/plain": [
       "[3, 6, 9, 12, 15]"
      ]
     },
     "execution_count": 7,
     "metadata": {},
     "output_type": "execute_result"
    }
   ],
   "source": [
    "# Following we use lambda inside map()\n",
    "    # this time we return multiple of 3\n",
    "list(map(lambda num: num*3, seq))"
   ]
  },
  {
   "cell_type": "markdown",
   "metadata": {},
   "source": [
    "---"
   ]
  },
  {
   "cell_type": "markdown",
   "metadata": {},
   "source": [
    "# ----------------    filter()    ----------------\n",
    "    # it's similar to map(), but insteal of mapping a sequence, we'll filter the sequence\n",
    "    # a function/lambda (returns BOOLEAN values) is passed as an argument that will filter out."
   ]
  },
  {
   "cell_type": "code",
   "execution_count": 2,
   "metadata": {},
   "outputs": [
    {
     "data": {
      "text/plain": [
       "[2, 4]"
      ]
     },
     "execution_count": 2,
     "metadata": {},
     "output_type": "execute_result"
    }
   ],
   "source": [
    "seq = [1,2,3,4,5]\n",
    "list(filter(lambda n: n%2 == 0, seq))\n",
    "# notice \"lambda n: n%2 == 0\" returns either True or False (Boolean values)\n",
    "# filter() returns only the element that are true for the condition \"n%2 == 0\""
   ]
  },
  {
   "cell_type": "markdown",
   "metadata": {},
   "source": [
    "---"
   ]
  }
 ],
 "metadata": {
  "kernelspec": {
   "display_name": "Python 3.10.3 64-bit",
   "language": "python",
   "name": "python3"
  },
  "language_info": {
   "codemirror_mode": {
    "name": "ipython",
    "version": 3
   },
   "file_extension": ".py",
   "mimetype": "text/x-python",
   "name": "python",
   "nbconvert_exporter": "python",
   "pygments_lexer": "ipython3",
   "version": "3.10.3"
  },
  "orig_nbformat": 4,
  "vscode": {
   "interpreter": {
    "hash": "b7534786ec8a9cff2926c7e81f9ca1d65065bc188d16e9c2279a84a4000586bc"
   }
  }
 },
 "nbformat": 4,
 "nbformat_minor": 2
}

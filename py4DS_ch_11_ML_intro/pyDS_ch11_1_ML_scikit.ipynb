{
 "cells": [
  {
   "cell_type": "markdown",
   "id": "b66af61b",
   "metadata": {},
   "source": [
    "Sure — here’s a corrected, simplified, and pointwise version without losing context:\n",
    "\n",
    "---\n",
    "\n",
    "**Using Python and scikit-learn for Machine Learning**\n",
    "\n",
    "1. **We’ll use Python and the `scikit-learn` package** — one of the most popular ML libraries in Python with many built-in algorithms.\n",
    "\n",
    "2. **To install:**\n",
    "\n",
    "   * If using **Anaconda**:  \n",
    "     `conda install scikit-learn`\n",
    "   * If using **other Python setups**:  \n",
    "     `pip install scikit-learn`\n",
    "\n",
    "---\n",
    "\n",
    "**Basic Machine Learning Workflow (with scikit-learn)**\n",
    "\n",
    "1. **Get the data** — collect or import the dataset.\n",
    "2. **Clean and format the data** — handle missing values, convert formats, scale features, etc.\n",
    "3. **Split the data** — divide into:\n",
    "\n",
    "   * **Training set** (for fitting the model)\n",
    "   * **Test set** (for evaluating the model)\n",
    "4. **Train the model** — fit your chosen algorithm on the training data.\n",
    "5. **Test the model** — check performance on the test set.\n",
    "6. **Tune the model** — adjust parameters and repeat training/testing.\n",
    "7. **Deploy the final model** — once performance is acceptable.\n",
    "\n",
    "**Note:** scikit-learn follows this structured process very cleanly with built-in functions for each step.\n"
   ]
  },
  {
   "cell_type": "markdown",
   "id": "3fdddd8b",
   "metadata": {},
   "source": [
    "# 🎈 **Overview of the scikit-learn Process**\n",
    "\n",
    "- **We’ll now look at an example of how to use scikit-learn.**- \n",
    "- **No need to memorize this now** — you’ll get plenty of practice in upcoming coding lessons.\n",
    "  - **The goal is to give you a preview** so it won’t feel unfamiliar when you start coding the algorithms yourself.\n",
    "\n",
    "\n",
    "\n",
    "### ✅ Steps to use **scikit-learn**\n",
    "\n",
    "1. **Every algorithm in scikit-learn is used through an *estimator object***.\n",
    "\n",
    "2. **To use a model, first import it** using this pattern:\n",
    "\n",
    "   ```python\n",
    "   from sklearn.family import ModelName\n",
    "   ```\n",
    "\n",
    "3. **Example:**\n",
    "   If using **Linear Regression**, you write:\n",
    "\n",
    "   ```python\n",
    "   from sklearn.linear_model import LinearRegression\n",
    "   ```\n",
    "\n",
    "4. Here, `linear_model` is the **model family**, and `LinearRegression` is the **estimator object (the model itself)**.\n",
    "\n",
    "5. **Next step:** Create an instance of the model (instantiate it).\n",
    "\n",
    "\n"
   ]
  },
  {
   "cell_type": "markdown",
   "id": "a4aa4bb4",
   "metadata": {},
   "source": [
    "\n",
    "* **Estimator**\n",
    "\n",
    "  - **Estimator parameters** can be set when creating (instantiating) a model.\n",
    "\n",
    "  - All parameters have **default values**. You can leave them as-is or adjust them.\n",
    "\n",
    "  - **To explore available parameters:**  \n",
    "\n",
    "    * In Jupyter: use `Shift + Tab` after typing inside the parentheses.\n",
    "    * In Colab: use `Ctrl + Space` for suggestions (or check the documentation).\n",
    "\n",
    "  - **Example:**  "
   ]
  },
  {
   "cell_type": "code",
   "execution_count": 1,
   "id": "0b4e4298",
   "metadata": {},
   "outputs": [],
   "source": [
    "# from sklearn.family import ModelName\n",
    "from sklearn.linear_model import LinearRegression"
   ]
  },
  {
   "cell_type": "code",
   "execution_count": 6,
   "id": "3a92f677",
   "metadata": {},
   "outputs": [],
   "source": [
    "# 1. Create a Linear Regression model with a custom parameter:  \n",
    "model = LinearRegression(normalize=True)"
   ]
  },
  {
   "cell_type": "code",
   "execution_count": 7,
   "id": "f9d9a950",
   "metadata": {},
   "outputs": [
    {
     "name": "stdout",
     "output_type": "stream",
     "text": [
      "LinearRegression(normalize=True)\n"
     ]
    }
   ],
   "source": [
    "# 2. Then, check the model’s settings:\n",
    "print(model)"
   ]
  },
  {
   "cell_type": "markdown",
   "id": "49f606eb",
   "metadata": {},
   "source": [
    "### How can I see all the default parameters?\n",
    "Following returns a Python dictionary of all parameters and their current values."
   ]
  },
  {
   "cell_type": "code",
   "execution_count": 8,
   "id": "fb5c61b1",
   "metadata": {},
   "outputs": [
    {
     "data": {
      "text/plain": [
       "{'copy_X': True,\n",
       " 'fit_intercept': True,\n",
       " 'n_jobs': None,\n",
       " 'normalize': True,\n",
       " 'positive': False}"
      ]
     },
     "execution_count": 8,
     "metadata": {},
     "output_type": "execute_result"
    }
   ],
   "source": [
    "model.get_params()"
   ]
  },
  {
   "cell_type": "markdown",
   "id": "7e8a0356",
   "metadata": {},
   "source": [
    "\n",
    "  - **Note:** You don’t have to set parameters like `normalize=True` unless needed. Defaults usually work fine to start with.\n"
   ]
  },
  {
   "cell_type": "markdown",
   "id": "3248c3c8",
   "metadata": {},
   "source": [
    "* **Fit the model**  \n",
    "  After creating your model and setting parameters, you need to **fit the model to data**.\n",
    "  \n",
    "  * **Important:** Always split your data into a **training set** and a **test set** before fitting.\n",
    "\n",
    "  * Example steps:\n",
    "\n",
    "    1. `import numpy as np` → to make some sample data.\n",
    "    2. Use scikit-learn’s **train-test split** function to split your data.\n",
    "\n",
    "\n",
    "  ⚠️ *Note: `cross_validation` is old and replaced by `model_selection`.*\n",
    "\n",
    "✔️ That’s it — split your data first, then fit the model to the training set.\n"
   ]
  },
  {
   "cell_type": "markdown",
   "id": "6a136e96",
   "metadata": {},
   "source": [
    "### creating our dataset using numpy\n",
    "- We create two things:\n",
    "  - X: the features (inputs)\n",
    "  - y: the labels (targets)\n",
    "\n",
    " X and y form the basic input-output pairs for training the model."
   ]
  },
  {
   "cell_type": "code",
   "execution_count": 10,
   "id": "e21603c2",
   "metadata": {},
   "outputs": [],
   "source": [
    "import numpy as np\n",
    "\n",
    "# each row in X has a matching value in y\n",
    "X = np.arange(10).reshape((5, 2))  # 5 rows, 2 features each\n",
    "y = range(5)                      # 5 labels"
   ]
  },
  {
   "cell_type": "code",
   "execution_count": 11,
   "id": "8b7295a3",
   "metadata": {},
   "outputs": [
    {
     "data": {
      "text/plain": [
       "array([[0, 1],\n",
       "       [2, 3],\n",
       "       [4, 5],\n",
       "       [6, 7],\n",
       "       [8, 9]])"
      ]
     },
     "execution_count": 11,
     "metadata": {},
     "output_type": "execute_result"
    }
   ],
   "source": [
    "X"
   ]
  },
  {
   "cell_type": "code",
   "execution_count": 13,
   "id": "14228847",
   "metadata": {},
   "outputs": [
    {
     "data": {
      "text/plain": [
       "[0, 1, 2, 3, 4]"
      ]
     },
     "execution_count": 13,
     "metadata": {},
     "output_type": "execute_result"
    }
   ],
   "source": [
    "list(y)"
   ]
  },
  {
   "cell_type": "markdown",
   "id": "107cc506",
   "metadata": {},
   "source": [
    "It can be done in one line like this:"
   ]
  },
  {
   "cell_type": "code",
   "execution_count": null,
   "id": "60de6306",
   "metadata": {},
   "outputs": [],
   "source": [
    "X, y = np.arange(10).reshape((5, 2)), range(5)"
   ]
  },
  {
   "cell_type": "markdown",
   "id": "a80725bb",
   "metadata": {},
   "source": [
    "✔️ This creates:\n",
    "\n",
    "* `X`: 5 rows × 2 columns of numbers from 0 to 9\n",
    "* `y`: numbers from 0 to 4\n",
    "\n",
    "Both assigned together in a single line.\n"
   ]
  },
  {
   "cell_type": "markdown",
   "id": "2474df3f",
   "metadata": {},
   "source": [
    "### Splitting the dataset  \n",
    "\n",
    "**Using `train_test_split`:**\n",
    "\n",
    "* You split your data into training and testing sets.  \n",
    "  Use this line, and sikat learn will automatically output your _**training set**_ and  _**testing set**_.\n",
    "\n",
    "  ```python\n",
    "  X_train, X_test, y_train, y_test = train_test_split(X, y, test_size=0.3)\n",
    "  ```\n",
    "\n",
    "**parameters:**\n",
    "\n",
    "* `X` is Features\n",
    "* `y` is Labels\n",
    "* `test_size=0.3` means **30% data for testing**, **70% for training**.\n",
    "* `train_test_split` automatically splits both features and labels into training and testing parts.\n",
    "\n",
    "**Result:**\n",
    "\n",
    "* `X_train`, `y_train` is our _Training data_\n",
    "* `X_test`, `y_test` is our _Testing data_\n",
    "\n",
    "**Note:**\n",
    "No need to memorize this now — it will become clear with practice.\n"
   ]
  },
  {
   "cell_type": "code",
   "execution_count": 17,
   "id": "cada55c4",
   "metadata": {},
   "outputs": [
    {
     "name": "stdout",
     "output_type": "stream",
     "text": [
      "\n",
      "X_train\n",
      " [[2 3]\n",
      " [4 5]\n",
      " [0 1]]\n",
      "\n",
      "X_test\n",
      " [[8 9]\n",
      " [6 7]]\n",
      "\n",
      "y_train\n",
      " [1, 2, 0]\n",
      "\n",
      "y_test\n",
      " [4, 3]\n"
     ]
    }
   ],
   "source": [
    "from sklearn.model_selection import train_test_split\n",
    "X_train, X_test, y_train, y_test = train_test_split(X, y, test_size=0.3)\n",
    "\n",
    "print('\\nX_train\\n', X_train)\n",
    "print('\\nX_test\\n', X_test)\n",
    "print('\\ny_train\\n', y_train)\n",
    "print('\\ny_test\\n', y_test)"
   ]
  }
 ],
 "metadata": {
  "kernelspec": {
   "display_name": "Python 3",
   "language": "python",
   "name": "python3"
  },
  "language_info": {
   "codemirror_mode": {
    "name": "ipython",
    "version": 3
   },
   "file_extension": ".py",
   "mimetype": "text/x-python",
   "name": "python",
   "nbconvert_exporter": "python",
   "pygments_lexer": "ipython3",
   "version": "3.10.3"
  }
 },
 "nbformat": 4,
 "nbformat_minor": 5
}

{
 "cells": [
  {
   "cell_type": "code",
   "execution_count": null,
   "metadata": {},
   "outputs": [],
   "source": [
    "# use following data\n",
    "import numpy as np\n",
    "x = np.arange(0, 100)   # array of [0, 1, ..., 99]\n",
    "y = 2*x\n",
    "z = x**2"
   ]
  }
 ],
 "metadata": {
  "language_info": {
   "name": "python"
  },
  "orig_nbformat": 4
 },
 "nbformat": 4,
 "nbformat_minor": 2
}
